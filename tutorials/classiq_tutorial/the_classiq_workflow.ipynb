{
 "cells": [
  {
   "cell_type": "markdown",
   "metadata": {},
   "source": [
    "# The Classiq Workflow\n",
    "\n",
    "This notebook introduces the typical workflow with Classiq:\n",
    "- **Designing a quantum algorithm** using the Qmod language and it's accompanied function library.\n",
    "- **Synthesizing the algorithm** into a concrete circuit implementation.\n",
    "- **Executing the algorithm** on a chosen simulator or quantum harware.\n",
    "- **Post-processing** the results.\n",
    "\n",
    "To get started, run:"
   ]
  },
  {
   "cell_type": "code",
   "execution_count": 10,
   "metadata": {},
   "outputs": [
    {
     "name": "stderr",
     "output_type": "stream",
     "text": [
      "/Users/drorsegman/Library/Caches/pypoetry/virtualenvs/external-user-venv-PaJZMdG0-py3.11/lib/python3.11/site-packages/classiq/_internals/authentication/token_manager.py:101: UserWarning: Device is already registered.\n",
      "Generating a new refresh token should only be done if the current refresh token is compromised.\n",
      "To do so, set the overwrite parameter to true\n",
      "  warnings.warn(\n"
     ]
    }
   ],
   "source": [
    "from classiq import *"
   ]
  },
  {
   "cell_type": "markdown",
   "metadata": {},
   "source": [
    "If this `import` doesn't work for you, please try `pip install classiq` in your terminal, or refer to [Registration and Installation](https://docs.classiq.io/latest/classiq_101/registration_installations/)."
   ]
  },
  {
   "cell_type": "markdown",
   "metadata": {},
   "source": [
    "## Designing a Quantum Algorithm\n",
    "\n"
   ]
  },
  {
   "cell_type": "markdown",
   "metadata": {},
   "source": [
    "Here we will define a quantum function `main` that calculates a simple arithmetic expression.\n",
    "\n",
    "Step-by-step:\n",
    "1. Allocate 3 qbits for the quantum number `x`, allowing it to represent $2^3$ different numbers, from 0 to 7.\n",
    "2. Apply `hadamard_transform` on `x` to prepare it into an equal superposition of all these numbers.\n",
    "3. Assign the desired arithmetic expression result into the quantum number `y`.\n"
   ]
  },
  {
   "cell_type": "code",
   "execution_count": 11,
   "metadata": {},
   "outputs": [],
   "source": [
    "@qfunc\n",
    "\n",
    "def main(x: Output[QNum], y: Output[QNum]) -> None:\n",
    "    allocate(3,x)\n",
    "    hadamard_transform(x)\n",
    "    y |= x**2 + 1\n"
   ]
  },
  {
   "cell_type": "markdown",
   "metadata": {},
   "source": [
    "We expect the output variables `x` and `y` to end in an equal superpostion of the states $|x_i\\rangle |y_i=x_i^2+1\\rangle$ for $x_is$ from 0 to 7.\n",
    "In other words, we have designed our quantum algorithm to calculate $x^2 +1$."
   ]
  },
  {
   "cell_type": "markdown",
   "metadata": {},
   "source": [
    "## Synthesizing the Algorithm"
   ]
  },
  {
   "cell_type": "markdown",
   "metadata": {},
   "source": [
    "The function `main` describes your algorithm in a high-level manner: \"calculate $x^2+1$ and assign in into `y`\". However, it does not specify __how__ to apply this calculation - it does not map the desired result to an executable quantum circuit, made of elementary quantum gates.\n",
    "\n",
    "In order to do so, you can pass your algorithm to Classiq's synthesis engine. \n",
    "\n",
    "First, create a Quantum Model object `qmod` out of the function `main`:"
   ]
  },
  {
   "cell_type": "code",
   "execution_count": 15,
   "metadata": {},
   "outputs": [],
   "source": [
    "qmod = create_model(main)"
   ]
  },
  {
   "cell_type": "markdown",
   "metadata": {},
   "source": [
    "Then, pass `qmod` to the synthesis engine, to obtain a concrete quantum program `qprog`.\n",
    "Here we'll use a simple call to the function `synthesize`. Later on in this tutorial, you will learn to provide configuration details (for example, which elementary gates are allowed to use?) using `set_preferences`."
   ]
  },
  {
   "cell_type": "code",
   "execution_count": 6,
   "metadata": {},
   "outputs": [
    {
     "data": {
      "text/plain": [
       "str"
      ]
     },
     "execution_count": 6,
     "metadata": {},
     "output_type": "execute_result"
    }
   ],
   "source": [
    "qprog = synthesize(qmod)"
   ]
  },
  {
   "cell_type": "markdown",
   "metadata": {},
   "source": [
    "At this stage, your algorithm is implemented in a declarative level - \n",
    "Now we can create `qgrog`, Quantum Program object -  a concrete executable object that implements the algorithm modeled by the `qmod` object."
   ]
  },
  {
   "cell_type": "markdown",
   "metadata": {},
   "source": [
    "qmod = create_model(main)\n",
    "qprog = synthesize(qmod)\n",
    "show(qprog)"
   ]
  },
  {
   "cell_type": "markdown",
   "metadata": {},
   "source": [
    "## Practice\n",
    "Edit the arithmetic expression inside `main`, using the `+`, `-`, `**` operators as well as literal numbers of your choice.\n",
    "How did the resulting Quantum Program change its width and depth?\n",
    "Do the sampled states of `x` and `y` satsify your arithmetic expression?\n"
   ]
  },
  {
   "cell_type": "markdown",
   "metadata": {},
   "source": []
  }
 ],
 "metadata": {
  "kernelspec": {
   "display_name": "external-user-venv-PaJZMdG0-py3.11",
   "language": "python",
   "name": "python3"
  },
  "language_info": {
   "codemirror_mode": {
    "name": "ipython",
    "version": 3
   },
   "file_extension": ".py",
   "mimetype": "text/x-python",
   "name": "python",
   "nbconvert_exporter": "python",
   "pygments_lexer": "ipython3",
   "version": "3.11.6"
  }
 },
 "nbformat": 4,
 "nbformat_minor": 2
}
