{
  "cells": [
    {
      "cell_type": "markdown",
      "id": "6a264eba-42cc-4800-8369-24b0891d167d",
      "metadata": {
        "id": "6a264eba-42cc-4800-8369-24b0891d167d"
      },
      "source": [
        "# Quantum Optimization Training - part 2\n",
        "## Dealing with constraint using portfolio optimization"
      ]
    },
    {
      "cell_type": "markdown",
      "id": "0c1662b0-2cb2-44f8-9c3b-452cf8e5b2cb",
      "metadata": {
        "id": "0c1662b0-2cb2-44f8-9c3b-452cf8e5b2cb"
      },
      "source": [
        "## Portfolio Optimization with the Quantum Approximate Optimization Algorithm (QAOA)\n",
        "\n",
        "### Introduction\n",
        "\n",
        "Portfolio optimization [[1](#PortfolioWiki)] is the process of allocating a portfolio of financial assets optimally, according to some predetermined goal. Usually, the goal is to maximize the potential return while minimizing the financial risk of the portfolio. One can express this problem as a combinatorial optimization problem like many other real-world problems. In this demo, we'll show how the Quantum Approximate Optimization Algorithm (QAOA) [[2](#QAOA)] can be employed on the Classiq platform to solve the problem of portfolio optimization.\n",
        "\n",
        "### Modeling the Portfolio Optimization Problem\n",
        "\n",
        "As a first step, we have to model the problem mathematically. We will use a simple yet powerful model, which captures the essence of portfolio optimization:\n",
        "\n",
        "- A portfolio is built from a pool of $n$ financial assets, each asset labeled $i \\in \\{1,\\ldots,n\\}$.\n",
        "- Every asset's return is a random variable, with expected value $\\mu_i$ and variance $\\Sigma_i$ (modeling the financial risk involved in the asset).\n",
        "- Every two assets $i \\neq j$ have covariance $\\Sigma_{ij}$ (modeling market correlation between assets).\n",
        "- Every asset $i$ has a weight $w_i \\in D_i = \\{0,\\ldots,b_i\\}$ in the portfolio, with $b_i$ defined as the budget for asset $i$ (modeling the maximum allowed weight of the asset).\n",
        "- The return vector $\\mu$, the covariance matrix $\\Sigma$ and the weight vector $w$ are defined naturally from the above (with the domain $D = D_1 \\times D_2 \\times \\ldots \\times D_n$ for $w$).\n",
        "\n",
        "With the above definitions, the total expected return of the portfolio is $\\mu^T w$ and the total risk is $w^T \\Sigma w$. We'll use a simple difference of the two as our cost function, with the additional constraint that the total sum of assets does not exceed a predefined budget $B$. We note that there are many other possibilities for defining a cost function (e.g. add a scaling factor to the risk/return or even some non-linear relation). For reasons of simplicity we select the model below, and we assume all constants and variables are dimensionless.\n",
        "Thus, the problem is, given the constant inputs $\\mu, \\Sigma, D, B$, to find optimal variable $w$ as follows:\n",
        "\n",
        "$\\begin{equation*}\n",
        "\\min_{w \\in D}  w^T \\Sigma w - \\mu^T w,\n",
        "\\end{equation*}$\n",
        "subject to $\\Sigma_{i} w_i \\leq B$.\n",
        "\n",
        "The case presented above is called integer portfolio optimization, since the domains $D_i$ are over the (positive) integers.\n",
        "Another variation of this problem defines weights over binary domains, and will not be discussed here.\n"
      ]
    },
    {
      "cell_type": "markdown",
      "id": "2b39e5fc-eea4-40a9-ba7b-d2e196e5b11e",
      "metadata": {
        "id": "2b39e5fc-eea4-40a9-ba7b-d2e196e5b11e"
      },
      "source": [
        "## References\n",
        "\n",
        "<a id='PortfolioWiki'>[1]</a>: [Portfolio Optimization (Wikipedia)](https://en.wikipedia.org/wiki/Portfolio_optimization)\n",
        "\n",
        "<a id='QAOA'>[2]</a>: [Farhi, Edward, Jeffrey Goldstone, and Sam Gutmann. \"A quantum approximate optimization algorithm.\" arXiv preprint arXiv:1411.4028 (2014).](https://arxiv.org/abs/1411.4028)"
      ]
    },
    {
      "cell_type": "code",
      "source": [
        "!pip install classiq"
      ],
      "metadata": {
        "colab": {
          "base_uri": "https://localhost:8080/",
          "height": 1000
        },
        "id": "j2MOueX6YWiP",
        "outputId": "f4f4fd00-9a15-4c82-c92b-4b1e648639a0"
      },
      "id": "j2MOueX6YWiP",
      "execution_count": 2,
      "outputs": [
        {
          "output_type": "stream",
          "name": "stdout",
          "text": [
            "Collecting classiq\n",
            "  Downloading classiq-0.67.0-py3-none-any.whl.metadata (3.5 kB)\n",
            "Collecting ConfigArgParse<2.0.0,>=1.5.3 (from classiq)\n",
            "  Downloading ConfigArgParse-1.7-py3-none-any.whl.metadata (23 kB)\n",
            "Collecting Pyomo<6.6,>=6.5 (from classiq)\n",
            "  Downloading Pyomo-6.5.0-cp311-cp311-manylinux_2_17_x86_64.manylinux2014_x86_64.whl.metadata (7.5 kB)\n",
            "Collecting black<25.0,>=24.0 (from classiq)\n",
            "  Downloading black-24.10.0-cp311-cp311-manylinux_2_17_x86_64.manylinux2014_x86_64.manylinux_2_28_x86_64.whl.metadata (79 kB)\n",
            "\u001b[2K     \u001b[90m━━━━━━━━━━━━━━━━━━━━━━━━━━━━━━━━━━━━━━━━\u001b[0m \u001b[32m79.2/79.2 kB\u001b[0m \u001b[31m7.0 MB/s\u001b[0m eta \u001b[36m0:00:00\u001b[0m\n",
            "\u001b[?25hRequirement already satisfied: httpx<1,>=0.23.0 in /usr/local/lib/python3.11/dist-packages (from classiq) (0.28.1)\n",
            "Requirement already satisfied: keyring<24.0.0,>=23.5.0 in /usr/lib/python3/dist-packages (from classiq) (23.5.0)\n",
            "Requirement already satisfied: matplotlib<4.0.0,>=3.4.3 in /usr/local/lib/python3.11/dist-packages (from classiq) (3.10.0)\n",
            "Collecting networkx<3.0.0,>=2.5.1 (from classiq)\n",
            "  Downloading networkx-2.8.8-py3-none-any.whl.metadata (5.1 kB)\n",
            "Requirement already satisfied: numexpr<3.0.0,>=2.7.3 in /usr/local/lib/python3.11/dist-packages (from classiq) (2.10.2)\n",
            "Requirement already satisfied: numpy<2.0.0,>=1.20.1 in /usr/local/lib/python3.11/dist-packages (from classiq) (1.26.4)\n",
            "Collecting packaging<24.0,>=23.2 (from classiq)\n",
            "  Downloading packaging-23.2-py3-none-any.whl.metadata (3.2 kB)\n",
            "Requirement already satisfied: pandas<3.0.0,>=1.4.0 in /usr/local/lib/python3.11/dist-packages (from classiq) (2.2.2)\n",
            "Requirement already satisfied: plotly<6.0.0,>=5.7.0 in /usr/local/lib/python3.11/dist-packages (from classiq) (5.24.1)\n",
            "Collecting pydantic<2.10.0,>=2.9.0 (from classiq)\n",
            "  Downloading pydantic-2.9.2-py3-none-any.whl.metadata (149 kB)\n",
            "\u001b[2K     \u001b[90m━━━━━━━━━━━━━━━━━━━━━━━━━━━━━━━━━━━━━━━━\u001b[0m \u001b[32m149.4/149.4 kB\u001b[0m \u001b[31m4.7 MB/s\u001b[0m eta \u001b[36m0:00:00\u001b[0m\n",
            "\u001b[?25hCollecting pydantic-settings<3.0.0,>=2.4.0 (from classiq)\n",
            "  Downloading pydantic_settings-2.7.1-py3-none-any.whl.metadata (3.5 kB)\n",
            "Requirement already satisfied: scipy<2.0.0,>=1.10.0 in /usr/local/lib/python3.11/dist-packages (from classiq) (1.13.1)\n",
            "Requirement already satisfied: sympy<2.0.0,>=1.13.0 in /usr/local/lib/python3.11/dist-packages (from classiq) (1.13.1)\n",
            "Requirement already satisfied: tabulate<1,>=0.8.9 in /usr/local/lib/python3.11/dist-packages (from classiq) (0.9.0)\n",
            "Requirement already satisfied: tqdm<5.0.0,>=4.67.1 in /usr/local/lib/python3.11/dist-packages (from classiq) (4.67.1)\n",
            "Requirement already satisfied: click>=8.0.0 in /usr/local/lib/python3.11/dist-packages (from black<25.0,>=24.0->classiq) (8.1.8)\n",
            "Collecting mypy-extensions>=0.4.3 (from black<25.0,>=24.0->classiq)\n",
            "  Downloading mypy_extensions-1.0.0-py3-none-any.whl.metadata (1.1 kB)\n",
            "Collecting pathspec>=0.9.0 (from black<25.0,>=24.0->classiq)\n",
            "  Downloading pathspec-0.12.1-py3-none-any.whl.metadata (21 kB)\n",
            "Requirement already satisfied: platformdirs>=2 in /usr/local/lib/python3.11/dist-packages (from black<25.0,>=24.0->classiq) (4.3.6)\n",
            "Requirement already satisfied: anyio in /usr/local/lib/python3.11/dist-packages (from httpx<1,>=0.23.0->classiq) (3.7.1)\n",
            "Requirement already satisfied: certifi in /usr/local/lib/python3.11/dist-packages (from httpx<1,>=0.23.0->classiq) (2024.12.14)\n",
            "Requirement already satisfied: httpcore==1.* in /usr/local/lib/python3.11/dist-packages (from httpx<1,>=0.23.0->classiq) (1.0.7)\n",
            "Requirement already satisfied: idna in /usr/local/lib/python3.11/dist-packages (from httpx<1,>=0.23.0->classiq) (3.10)\n",
            "Requirement already satisfied: h11<0.15,>=0.13 in /usr/local/lib/python3.11/dist-packages (from httpcore==1.*->httpx<1,>=0.23.0->classiq) (0.14.0)\n",
            "Requirement already satisfied: contourpy>=1.0.1 in /usr/local/lib/python3.11/dist-packages (from matplotlib<4.0.0,>=3.4.3->classiq) (1.3.1)\n",
            "Requirement already satisfied: cycler>=0.10 in /usr/local/lib/python3.11/dist-packages (from matplotlib<4.0.0,>=3.4.3->classiq) (0.12.1)\n",
            "Requirement already satisfied: fonttools>=4.22.0 in /usr/local/lib/python3.11/dist-packages (from matplotlib<4.0.0,>=3.4.3->classiq) (4.55.7)\n",
            "Requirement already satisfied: kiwisolver>=1.3.1 in /usr/local/lib/python3.11/dist-packages (from matplotlib<4.0.0,>=3.4.3->classiq) (1.4.8)\n",
            "Requirement already satisfied: pillow>=8 in /usr/local/lib/python3.11/dist-packages (from matplotlib<4.0.0,>=3.4.3->classiq) (11.1.0)\n",
            "Requirement already satisfied: pyparsing>=2.3.1 in /usr/local/lib/python3.11/dist-packages (from matplotlib<4.0.0,>=3.4.3->classiq) (3.2.1)\n",
            "Requirement already satisfied: python-dateutil>=2.7 in /usr/local/lib/python3.11/dist-packages (from matplotlib<4.0.0,>=3.4.3->classiq) (2.8.2)\n",
            "Requirement already satisfied: pytz>=2020.1 in /usr/local/lib/python3.11/dist-packages (from pandas<3.0.0,>=1.4.0->classiq) (2024.2)\n",
            "Requirement already satisfied: tzdata>=2022.7 in /usr/local/lib/python3.11/dist-packages (from pandas<3.0.0,>=1.4.0->classiq) (2025.1)\n",
            "Requirement already satisfied: tenacity>=6.2.0 in /usr/local/lib/python3.11/dist-packages (from plotly<6.0.0,>=5.7.0->classiq) (9.0.0)\n",
            "Requirement already satisfied: annotated-types>=0.6.0 in /usr/local/lib/python3.11/dist-packages (from pydantic<2.10.0,>=2.9.0->classiq) (0.7.0)\n",
            "Collecting pydantic-core==2.23.4 (from pydantic<2.10.0,>=2.9.0->classiq)\n",
            "  Downloading pydantic_core-2.23.4-cp311-cp311-manylinux_2_17_x86_64.manylinux2014_x86_64.whl.metadata (6.6 kB)\n",
            "Requirement already satisfied: typing-extensions>=4.6.1 in /usr/local/lib/python3.11/dist-packages (from pydantic<2.10.0,>=2.9.0->classiq) (4.12.2)\n",
            "Collecting python-dotenv>=0.21.0 (from pydantic-settings<3.0.0,>=2.4.0->classiq)\n",
            "  Downloading python_dotenv-1.0.1-py3-none-any.whl.metadata (23 kB)\n",
            "Requirement already satisfied: ply in /usr/local/lib/python3.11/dist-packages (from Pyomo<6.6,>=6.5->classiq) (3.11)\n",
            "Requirement already satisfied: mpmath<1.4,>=1.1.0 in /usr/local/lib/python3.11/dist-packages (from sympy<2.0.0,>=1.13.0->classiq) (1.3.0)\n",
            "Requirement already satisfied: six>=1.5 in /usr/local/lib/python3.11/dist-packages (from python-dateutil>=2.7->matplotlib<4.0.0,>=3.4.3->classiq) (1.17.0)\n",
            "Requirement already satisfied: sniffio>=1.1 in /usr/local/lib/python3.11/dist-packages (from anyio->httpx<1,>=0.23.0->classiq) (1.3.1)\n",
            "Downloading classiq-0.67.0-py3-none-any.whl (522 kB)\n",
            "\u001b[2K   \u001b[90m━━━━━━━━━━━━━━━━━━━━━━━━━━━━━━━━━━━━━━━━\u001b[0m \u001b[32m522.4/522.4 kB\u001b[0m \u001b[31m18.7 MB/s\u001b[0m eta \u001b[36m0:00:00\u001b[0m\n",
            "\u001b[?25hDownloading black-24.10.0-cp311-cp311-manylinux_2_17_x86_64.manylinux2014_x86_64.manylinux_2_28_x86_64.whl (1.7 MB)\n",
            "\u001b[2K   \u001b[90m━━━━━━━━━━━━━━━━━━━━━━━━━━━━━━━━━━━━━━━━\u001b[0m \u001b[32m1.7/1.7 MB\u001b[0m \u001b[31m48.0 MB/s\u001b[0m eta \u001b[36m0:00:00\u001b[0m\n",
            "\u001b[?25hDownloading ConfigArgParse-1.7-py3-none-any.whl (25 kB)\n",
            "Downloading networkx-2.8.8-py3-none-any.whl (2.0 MB)\n",
            "\u001b[2K   \u001b[90m━━━━━━━━━━━━━━━━━━━━━━━━━━━━━━━━━━━━━━━━\u001b[0m \u001b[32m2.0/2.0 MB\u001b[0m \u001b[31m70.7 MB/s\u001b[0m eta \u001b[36m0:00:00\u001b[0m\n",
            "\u001b[?25hDownloading packaging-23.2-py3-none-any.whl (53 kB)\n",
            "\u001b[2K   \u001b[90m━━━━━━━━━━━━━━━━━━━━━━━━━━━━━━━━━━━━━━━━\u001b[0m \u001b[32m53.0/53.0 kB\u001b[0m \u001b[31m5.2 MB/s\u001b[0m eta \u001b[36m0:00:00\u001b[0m\n",
            "\u001b[?25hDownloading pydantic-2.9.2-py3-none-any.whl (434 kB)\n",
            "\u001b[2K   \u001b[90m━━━━━━━━━━━━━━━━━━━━━━━━━━━━━━━━━━━━━━━━\u001b[0m \u001b[32m434.9/434.9 kB\u001b[0m \u001b[31m33.9 MB/s\u001b[0m eta \u001b[36m0:00:00\u001b[0m\n",
            "\u001b[?25hDownloading pydantic_core-2.23.4-cp311-cp311-manylinux_2_17_x86_64.manylinux2014_x86_64.whl (2.1 MB)\n",
            "\u001b[2K   \u001b[90m━━━━━━━━━━━━━━━━━━━━━━━━━━━━━━━━━━━━━━━━\u001b[0m \u001b[32m2.1/2.1 MB\u001b[0m \u001b[31m73.5 MB/s\u001b[0m eta \u001b[36m0:00:00\u001b[0m\n",
            "\u001b[?25hDownloading pydantic_settings-2.7.1-py3-none-any.whl (29 kB)\n",
            "Downloading Pyomo-6.5.0-cp311-cp311-manylinux_2_17_x86_64.manylinux2014_x86_64.whl (11.4 MB)\n",
            "\u001b[2K   \u001b[90m━━━━━━━━━━━━━━━━━━━━━━━━━━━━━━━━━━━━━━━━\u001b[0m \u001b[32m11.4/11.4 MB\u001b[0m \u001b[31m28.7 MB/s\u001b[0m eta \u001b[36m0:00:00\u001b[0m\n",
            "\u001b[?25hDownloading mypy_extensions-1.0.0-py3-none-any.whl (4.7 kB)\n",
            "Downloading pathspec-0.12.1-py3-none-any.whl (31 kB)\n",
            "Downloading python_dotenv-1.0.1-py3-none-any.whl (19 kB)\n",
            "Installing collected packages: python-dotenv, Pyomo, pydantic-core, pathspec, packaging, networkx, mypy-extensions, ConfigArgParse, pydantic, black, pydantic-settings, classiq\n",
            "  Attempting uninstall: Pyomo\n",
            "    Found existing installation: Pyomo 6.8.2\n",
            "    Uninstalling Pyomo-6.8.2:\n",
            "      Successfully uninstalled Pyomo-6.8.2\n",
            "  Attempting uninstall: pydantic-core\n",
            "    Found existing installation: pydantic_core 2.27.2\n",
            "    Uninstalling pydantic_core-2.27.2:\n",
            "      Successfully uninstalled pydantic_core-2.27.2\n",
            "  Attempting uninstall: packaging\n",
            "    Found existing installation: packaging 24.2\n",
            "    Uninstalling packaging-24.2:\n",
            "      Successfully uninstalled packaging-24.2\n",
            "  Attempting uninstall: networkx\n",
            "    Found existing installation: networkx 3.4.2\n",
            "    Uninstalling networkx-3.4.2:\n",
            "      Successfully uninstalled networkx-3.4.2\n",
            "  Attempting uninstall: pydantic\n",
            "    Found existing installation: pydantic 2.10.6\n",
            "    Uninstalling pydantic-2.10.6:\n",
            "      Successfully uninstalled pydantic-2.10.6\n",
            "\u001b[31mERROR: pip's dependency resolver does not currently take into account all the packages that are installed. This behaviour is the source of the following dependency conflicts.\n",
            "torch 2.5.1+cu124 requires nvidia-cublas-cu12==12.4.5.8; platform_system == \"Linux\" and platform_machine == \"x86_64\", but you have nvidia-cublas-cu12 12.5.3.2 which is incompatible.\n",
            "torch 2.5.1+cu124 requires nvidia-cuda-cupti-cu12==12.4.127; platform_system == \"Linux\" and platform_machine == \"x86_64\", but you have nvidia-cuda-cupti-cu12 12.5.82 which is incompatible.\n",
            "torch 2.5.1+cu124 requires nvidia-cuda-nvrtc-cu12==12.4.127; platform_system == \"Linux\" and platform_machine == \"x86_64\", but you have nvidia-cuda-nvrtc-cu12 12.5.82 which is incompatible.\n",
            "torch 2.5.1+cu124 requires nvidia-cuda-runtime-cu12==12.4.127; platform_system == \"Linux\" and platform_machine == \"x86_64\", but you have nvidia-cuda-runtime-cu12 12.5.82 which is incompatible.\n",
            "torch 2.5.1+cu124 requires nvidia-cudnn-cu12==9.1.0.70; platform_system == \"Linux\" and platform_machine == \"x86_64\", but you have nvidia-cudnn-cu12 9.3.0.75 which is incompatible.\n",
            "torch 2.5.1+cu124 requires nvidia-cufft-cu12==11.2.1.3; platform_system == \"Linux\" and platform_machine == \"x86_64\", but you have nvidia-cufft-cu12 11.2.3.61 which is incompatible.\n",
            "torch 2.5.1+cu124 requires nvidia-curand-cu12==10.3.5.147; platform_system == \"Linux\" and platform_machine == \"x86_64\", but you have nvidia-curand-cu12 10.3.6.82 which is incompatible.\n",
            "torch 2.5.1+cu124 requires nvidia-cusolver-cu12==11.6.1.9; platform_system == \"Linux\" and platform_machine == \"x86_64\", but you have nvidia-cusolver-cu12 11.6.3.83 which is incompatible.\n",
            "torch 2.5.1+cu124 requires nvidia-cusparse-cu12==12.3.1.170; platform_system == \"Linux\" and platform_machine == \"x86_64\", but you have nvidia-cusparse-cu12 12.5.1.3 which is incompatible.\n",
            "torch 2.5.1+cu124 requires nvidia-nvjitlink-cu12==12.4.127; platform_system == \"Linux\" and platform_machine == \"x86_64\", but you have nvidia-nvjitlink-cu12 12.5.82 which is incompatible.\n",
            "nx-cugraph-cu12 24.12.0 requires networkx>=3.2, but you have networkx 2.8.8 which is incompatible.\n",
            "scikit-image 0.25.1 requires networkx>=3.0, but you have networkx 2.8.8 which is incompatible.\u001b[0m\u001b[31m\n",
            "\u001b[0mSuccessfully installed ConfigArgParse-1.7 Pyomo-6.5.0 black-24.10.0 classiq-0.67.0 mypy-extensions-1.0.0 networkx-2.8.8 packaging-23.2 pathspec-0.12.1 pydantic-2.9.2 pydantic-core-2.23.4 pydantic-settings-2.7.1 python-dotenv-1.0.1\n"
          ]
        },
        {
          "output_type": "display_data",
          "data": {
            "application/vnd.colab-display-data+json": {
              "pip_warning": {
                "packages": [
                  "networkx"
                ]
              },
              "id": "a4af2cba310c40b2873c91ad9ed45041"
            }
          },
          "metadata": {}
        }
      ]
    },
    {
      "cell_type": "code",
      "execution_count": null,
      "id": "952d49b3-5dc6-41a1-8822-0622df536cf7",
      "metadata": {
        "tags": [],
        "id": "952d49b3-5dc6-41a1-8822-0622df536cf7",
        "colab": {
          "base_uri": "https://localhost:8080/",
          "height": 365
        },
        "outputId": "39533f23-8f07-4d59-8720-7048c9ad6e48"
      },
      "outputs": [
        {
          "output_type": "error",
          "ename": "KeyboardInterrupt",
          "evalue": "",
          "traceback": [
            "\u001b[0;31m---------------------------------------------------------------------------\u001b[0m",
            "\u001b[0;31mKeyboardInterrupt\u001b[0m                         Traceback (most recent call last)",
            "\u001b[0;32m<ipython-input-3-203e7fd69e9b>\u001b[0m in \u001b[0;36m<cell line: 0>\u001b[0;34m()\u001b[0m\n\u001b[1;32m      2\u001b[0m \u001b[0;34m\u001b[0m\u001b[0m\n\u001b[1;32m      3\u001b[0m \u001b[0;32mimport\u001b[0m \u001b[0mnetworkx\u001b[0m \u001b[0;32mas\u001b[0m \u001b[0mnx\u001b[0m\u001b[0;34m\u001b[0m\u001b[0;34m\u001b[0m\u001b[0m\n\u001b[0;32m----> 4\u001b[0;31m \u001b[0;32mfrom\u001b[0m \u001b[0mclassiq\u001b[0m \u001b[0;32mimport\u001b[0m \u001b[0;34m*\u001b[0m\u001b[0;34m\u001b[0m\u001b[0;34m\u001b[0m\u001b[0m\n\u001b[0m\u001b[1;32m      5\u001b[0m \u001b[0;32mimport\u001b[0m \u001b[0mmath\u001b[0m\u001b[0;34m\u001b[0m\u001b[0;34m\u001b[0m\u001b[0m\n\u001b[1;32m      6\u001b[0m \u001b[0;32mimport\u001b[0m \u001b[0mmatplotlib\u001b[0m\u001b[0;34m.\u001b[0m\u001b[0mpyplot\u001b[0m \u001b[0;32mas\u001b[0m \u001b[0mplt\u001b[0m\u001b[0;34m\u001b[0m\u001b[0;34m\u001b[0m\u001b[0m\n",
            "\u001b[0;32m/usr/local/lib/python3.11/dist-packages/classiq/__init__.py\u001b[0m in \u001b[0;36m<module>\u001b[0;34m\u001b[0m\n\u001b[1;32m      2\u001b[0m \u001b[0;34m\u001b[0m\u001b[0m\n\u001b[1;32m      3\u001b[0m \u001b[0;32mfrom\u001b[0m \u001b[0mclassiq\u001b[0m\u001b[0;34m.\u001b[0m\u001b[0minterface\u001b[0m\u001b[0;34m.\u001b[0m\u001b[0m_version\u001b[0m \u001b[0;32mimport\u001b[0m \u001b[0mVERSION\u001b[0m \u001b[0;32mas\u001b[0m \u001b[0m_VERSION\u001b[0m\u001b[0;34m\u001b[0m\u001b[0;34m\u001b[0m\u001b[0m\n\u001b[0;32m----> 4\u001b[0;31m \u001b[0;32mfrom\u001b[0m \u001b[0mclassiq\u001b[0m\u001b[0;34m.\u001b[0m\u001b[0minterface\u001b[0m\u001b[0;34m.\u001b[0m\u001b[0mgenerator\u001b[0m\u001b[0;34m.\u001b[0m\u001b[0mapplication_apis\u001b[0m \u001b[0;32mimport\u001b[0m \u001b[0;34m*\u001b[0m  \u001b[0;31m# noqa: F403\u001b[0m\u001b[0;34m\u001b[0m\u001b[0;34m\u001b[0m\u001b[0m\n\u001b[0m\u001b[1;32m      5\u001b[0m from classiq.interface.generator.arith.register_user_input import (\n\u001b[1;32m      6\u001b[0m     \u001b[0mRegisterArithmeticInfo\u001b[0m\u001b[0;34m,\u001b[0m\u001b[0;34m\u001b[0m\u001b[0;34m\u001b[0m\u001b[0m\n",
            "\u001b[0;32m/usr/local/lib/python3.11/dist-packages/classiq/interface/generator/application_apis/__init__.py\u001b[0m in \u001b[0;36m<module>\u001b[0;34m\u001b[0m\n\u001b[0;32m----> 1\u001b[0;31m from classiq.interface.generator.builtin_api_builder import (\n\u001b[0m\u001b[1;32m      2\u001b[0m     \u001b[0mpopulate_builtin_declarations\u001b[0m\u001b[0;34m,\u001b[0m\u001b[0;34m\u001b[0m\u001b[0;34m\u001b[0m\u001b[0m\n\u001b[1;32m      3\u001b[0m )\n\u001b[1;32m      4\u001b[0m \u001b[0;34m\u001b[0m\u001b[0m\n\u001b[1;32m      5\u001b[0m \u001b[0;32mfrom\u001b[0m \u001b[0;34m.\u001b[0m\u001b[0marithmetic_declarations\u001b[0m \u001b[0;32mimport\u001b[0m \u001b[0;34m*\u001b[0m  \u001b[0;31m# noqa: F403\u001b[0m\u001b[0;34m\u001b[0m\u001b[0;34m\u001b[0m\u001b[0m\n",
            "\u001b[0;32m/usr/local/lib/python3.11/dist-packages/classiq/interface/generator/builtin_api_builder.py\u001b[0m in \u001b[0;36m<module>\u001b[0;34m\u001b[0m\n\u001b[1;32m      2\u001b[0m \u001b[0;32mfrom\u001b[0m \u001b[0mtyping\u001b[0m \u001b[0;32mimport\u001b[0m \u001b[0mAny\u001b[0m\u001b[0;34m\u001b[0m\u001b[0;34m\u001b[0m\u001b[0m\n\u001b[1;32m      3\u001b[0m \u001b[0;34m\u001b[0m\u001b[0m\n\u001b[0;32m----> 4\u001b[0;31m from classiq.interface.generator.functions.classical_function_declaration import (\n\u001b[0m\u001b[1;32m      5\u001b[0m     \u001b[0mClassicalFunctionDeclaration\u001b[0m\u001b[0;34m,\u001b[0m\u001b[0;34m\u001b[0m\u001b[0;34m\u001b[0m\u001b[0m\n\u001b[1;32m      6\u001b[0m )\n",
            "\u001b[0;32m/usr/local/lib/python3.11/dist-packages/classiq/interface/generator/functions/__init__.py\u001b[0m in \u001b[0;36m<module>\u001b[0;34m\u001b[0m\n\u001b[0;32m----> 1\u001b[0;31m \u001b[0;32mfrom\u001b[0m \u001b[0mclassiq\u001b[0m\u001b[0;34m.\u001b[0m\u001b[0minterface\u001b[0m\u001b[0;34m.\u001b[0m\u001b[0mgenerator\u001b[0m\u001b[0;34m.\u001b[0m\u001b[0mfunctions\u001b[0m\u001b[0;34m.\u001b[0m\u001b[0mfunction_declaration\u001b[0m \u001b[0;32mimport\u001b[0m \u001b[0;34m*\u001b[0m\u001b[0;34m\u001b[0m\u001b[0;34m\u001b[0m\u001b[0m\n\u001b[0m",
            "\u001b[0;32m/usr/local/lib/python3.11/dist-packages/classiq/interface/generator/functions/function_declaration.py\u001b[0m in \u001b[0;36m<module>\u001b[0;34m\u001b[0m\n\u001b[1;32m      4\u001b[0m \u001b[0;32mfrom\u001b[0m \u001b[0mpydantic\u001b[0m \u001b[0;32mimport\u001b[0m \u001b[0mConfigDict\u001b[0m\u001b[0;34m\u001b[0m\u001b[0;34m\u001b[0m\u001b[0m\n\u001b[1;32m      5\u001b[0m \u001b[0;34m\u001b[0m\u001b[0m\n\u001b[0;32m----> 6\u001b[0;31m from classiq.interface.model.classical_parameter_declaration import (\n\u001b[0m\u001b[1;32m      7\u001b[0m     \u001b[0mAnonClassicalParameterDeclaration\u001b[0m\u001b[0;34m,\u001b[0m\u001b[0;34m\u001b[0m\u001b[0;34m\u001b[0m\u001b[0m\n\u001b[1;32m      8\u001b[0m )\n",
            "\u001b[0;32m/usr/local/lib/python3.11/dist-packages/classiq/interface/model/classical_parameter_declaration.py\u001b[0m in \u001b[0;36m<module>\u001b[0;34m\u001b[0m\n\u001b[1;32m      4\u001b[0m \u001b[0;34m\u001b[0m\u001b[0m\n\u001b[1;32m      5\u001b[0m \u001b[0;32mfrom\u001b[0m \u001b[0mclassiq\u001b[0m\u001b[0;34m.\u001b[0m\u001b[0minterface\u001b[0m\u001b[0;34m.\u001b[0m\u001b[0mexceptions\u001b[0m \u001b[0;32mimport\u001b[0m \u001b[0mClassiqInternalError\u001b[0m\u001b[0;34m\u001b[0m\u001b[0;34m\u001b[0m\u001b[0m\n\u001b[0;32m----> 6\u001b[0;31m \u001b[0;32mfrom\u001b[0m \u001b[0mclassiq\u001b[0m\u001b[0;34m.\u001b[0m\u001b[0minterface\u001b[0m\u001b[0;34m.\u001b[0m\u001b[0mgenerator\u001b[0m\u001b[0;34m.\u001b[0m\u001b[0mfunctions\u001b[0m\u001b[0;34m.\u001b[0m\u001b[0mconcrete_types\u001b[0m \u001b[0;32mimport\u001b[0m \u001b[0mConcreteClassicalType\u001b[0m\u001b[0;34m\u001b[0m\u001b[0;34m\u001b[0m\u001b[0m\n\u001b[0m\u001b[1;32m      7\u001b[0m \u001b[0;32mfrom\u001b[0m \u001b[0mclassiq\u001b[0m\u001b[0;34m.\u001b[0m\u001b[0minterface\u001b[0m\u001b[0;34m.\u001b[0m\u001b[0mhelpers\u001b[0m\u001b[0;34m.\u001b[0m\u001b[0mpydantic_model_helpers\u001b[0m \u001b[0;32mimport\u001b[0m \u001b[0mvalues_with_discriminator\u001b[0m\u001b[0;34m\u001b[0m\u001b[0;34m\u001b[0m\u001b[0m\n\u001b[1;32m      8\u001b[0m \u001b[0;32mfrom\u001b[0m \u001b[0mclassiq\u001b[0m\u001b[0;34m.\u001b[0m\u001b[0minterface\u001b[0m\u001b[0;34m.\u001b[0m\u001b[0mmodel\u001b[0m\u001b[0;34m.\u001b[0m\u001b[0mparameter\u001b[0m \u001b[0;32mimport\u001b[0m \u001b[0mParameter\u001b[0m\u001b[0;34m\u001b[0m\u001b[0;34m\u001b[0m\u001b[0m\n",
            "\u001b[0;32m/usr/local/lib/python3.11/dist-packages/classiq/interface/generator/functions/concrete_types.py\u001b[0m in \u001b[0;36m<module>\u001b[0;34m\u001b[0m\n\u001b[1;32m      3\u001b[0m \u001b[0;32mfrom\u001b[0m \u001b[0mpydantic\u001b[0m \u001b[0;32mimport\u001b[0m \u001b[0mField\u001b[0m\u001b[0;34m\u001b[0m\u001b[0;34m\u001b[0m\u001b[0m\n\u001b[1;32m      4\u001b[0m \u001b[0;34m\u001b[0m\u001b[0m\n\u001b[0;32m----> 5\u001b[0;31m from classiq.interface.generator.functions.classical_type import (\n\u001b[0m\u001b[1;32m      6\u001b[0m     \u001b[0mBool\u001b[0m\u001b[0;34m,\u001b[0m\u001b[0;34m\u001b[0m\u001b[0;34m\u001b[0m\u001b[0m\n\u001b[1;32m      7\u001b[0m     \u001b[0mClassicalArray\u001b[0m\u001b[0;34m,\u001b[0m\u001b[0;34m\u001b[0m\u001b[0;34m\u001b[0m\u001b[0m\n",
            "\u001b[0;32m/usr/local/lib/python3.11/dist-packages/classiq/interface/generator/functions/classical_type.py\u001b[0m in \u001b[0;36m<module>\u001b[0;34m\u001b[0m\n\u001b[1;32m      3\u001b[0m \u001b[0;32mimport\u001b[0m \u001b[0mpydantic\u001b[0m\u001b[0;34m\u001b[0m\u001b[0;34m\u001b[0m\u001b[0m\n\u001b[1;32m      4\u001b[0m \u001b[0;32mfrom\u001b[0m \u001b[0mpydantic\u001b[0m \u001b[0;32mimport\u001b[0m \u001b[0mConfigDict\u001b[0m\u001b[0;34m\u001b[0m\u001b[0;34m\u001b[0m\u001b[0m\n\u001b[0;32m----> 5\u001b[0;31m \u001b[0;32mfrom\u001b[0m \u001b[0msympy\u001b[0m \u001b[0;32mimport\u001b[0m \u001b[0mIndexedBase\u001b[0m\u001b[0;34m,\u001b[0m \u001b[0mSymbol\u001b[0m\u001b[0;34m\u001b[0m\u001b[0;34m\u001b[0m\u001b[0m\n\u001b[0m\u001b[1;32m      6\u001b[0m \u001b[0;34m\u001b[0m\u001b[0m\n\u001b[1;32m      7\u001b[0m \u001b[0;32mfrom\u001b[0m \u001b[0mclassiq\u001b[0m\u001b[0;34m.\u001b[0m\u001b[0minterface\u001b[0m\u001b[0;34m.\u001b[0m\u001b[0mast_node\u001b[0m \u001b[0;32mimport\u001b[0m \u001b[0mHashableASTNode\u001b[0m\u001b[0;34m\u001b[0m\u001b[0;34m\u001b[0m\u001b[0m\n",
            "\u001b[0;32m/usr/local/lib/python3.11/dist-packages/sympy/__init__.py\u001b[0m in \u001b[0;36m<module>\u001b[0;34m\u001b[0m\n\u001b[1;32m     72\u001b[0m         assuming, Q, ask, register_handler, remove_handler, refine)\n\u001b[1;32m     73\u001b[0m \u001b[0;34m\u001b[0m\u001b[0m\n\u001b[0;32m---> 74\u001b[0;31m from .polys import (Poly, PurePoly, poly_from_expr, parallel_poly_from_expr,\n\u001b[0m\u001b[1;32m     75\u001b[0m         \u001b[0mdegree\u001b[0m\u001b[0;34m,\u001b[0m \u001b[0mtotal_degree\u001b[0m\u001b[0;34m,\u001b[0m \u001b[0mdegree_list\u001b[0m\u001b[0;34m,\u001b[0m \u001b[0mLC\u001b[0m\u001b[0;34m,\u001b[0m \u001b[0mLM\u001b[0m\u001b[0;34m,\u001b[0m \u001b[0mLT\u001b[0m\u001b[0;34m,\u001b[0m \u001b[0mpdiv\u001b[0m\u001b[0;34m,\u001b[0m \u001b[0mprem\u001b[0m\u001b[0;34m,\u001b[0m \u001b[0mpquo\u001b[0m\u001b[0;34m,\u001b[0m\u001b[0;34m\u001b[0m\u001b[0;34m\u001b[0m\u001b[0m\n\u001b[1;32m     76\u001b[0m         \u001b[0mpexquo\u001b[0m\u001b[0;34m,\u001b[0m \u001b[0mdiv\u001b[0m\u001b[0;34m,\u001b[0m \u001b[0mrem\u001b[0m\u001b[0;34m,\u001b[0m \u001b[0mquo\u001b[0m\u001b[0;34m,\u001b[0m \u001b[0mexquo\u001b[0m\u001b[0;34m,\u001b[0m \u001b[0mhalf_gcdex\u001b[0m\u001b[0;34m,\u001b[0m \u001b[0mgcdex\u001b[0m\u001b[0;34m,\u001b[0m \u001b[0minvert\u001b[0m\u001b[0;34m,\u001b[0m\u001b[0;34m\u001b[0m\u001b[0;34m\u001b[0m\u001b[0m\n",
            "\u001b[0;32m/usr/local/lib/python3.11/dist-packages/sympy/polys/__init__.py\u001b[0m in \u001b[0;36m<module>\u001b[0;34m\u001b[0m\n\u001b[1;32m     77\u001b[0m         GroebnerBasis, poly)\n\u001b[1;32m     78\u001b[0m \u001b[0;34m\u001b[0m\u001b[0m\n\u001b[0;32m---> 79\u001b[0;31m from .polyfuncs import (symmetrize, horner, interpolate,\n\u001b[0m\u001b[1;32m     80\u001b[0m         rational_interpolate, viete)\n\u001b[1;32m     81\u001b[0m \u001b[0;34m\u001b[0m\u001b[0m\n",
            "\u001b[0;32m/usr/local/lib/python3.11/dist-packages/sympy/polys/polyfuncs.py\u001b[0m in \u001b[0;36m<module>\u001b[0;34m\u001b[0m\n\u001b[1;32m      8\u001b[0m \u001b[0;32mfrom\u001b[0m \u001b[0msympy\u001b[0m\u001b[0;34m.\u001b[0m\u001b[0mpolys\u001b[0m\u001b[0;34m.\u001b[0m\u001b[0mpolyoptions\u001b[0m \u001b[0;32mimport\u001b[0m \u001b[0mallowed_flags\u001b[0m\u001b[0;34m,\u001b[0m \u001b[0mbuild_options\u001b[0m\u001b[0;34m\u001b[0m\u001b[0;34m\u001b[0m\u001b[0m\n\u001b[1;32m      9\u001b[0m \u001b[0;32mfrom\u001b[0m \u001b[0msympy\u001b[0m\u001b[0;34m.\u001b[0m\u001b[0mpolys\u001b[0m\u001b[0;34m.\u001b[0m\u001b[0mpolytools\u001b[0m \u001b[0;32mimport\u001b[0m \u001b[0mpoly_from_expr\u001b[0m\u001b[0;34m,\u001b[0m \u001b[0mPoly\u001b[0m\u001b[0;34m\u001b[0m\u001b[0;34m\u001b[0m\u001b[0m\n\u001b[0;32m---> 10\u001b[0;31m from sympy.polys.specialpolys import (\n\u001b[0m\u001b[1;32m     11\u001b[0m     symmetric_poly, interpolating_poly)\n\u001b[1;32m     12\u001b[0m \u001b[0;32mfrom\u001b[0m \u001b[0msympy\u001b[0m\u001b[0;34m.\u001b[0m\u001b[0mpolys\u001b[0m\u001b[0;34m.\u001b[0m\u001b[0mrings\u001b[0m \u001b[0;32mimport\u001b[0m \u001b[0msring\u001b[0m\u001b[0;34m\u001b[0m\u001b[0;34m\u001b[0m\u001b[0m\n",
            "\u001b[0;32m/usr/local/lib/python3.11/dist-packages/sympy/polys/specialpolys.py\u001b[0m in \u001b[0;36m<module>\u001b[0;34m\u001b[0m\n\u001b[1;32m    296\u001b[0m \u001b[0;31m# A few useful polynomials from Wang's paper ('78).\u001b[0m\u001b[0;34m\u001b[0m\u001b[0;34m\u001b[0m\u001b[0m\n\u001b[1;32m    297\u001b[0m \u001b[0;34m\u001b[0m\u001b[0m\n\u001b[0;32m--> 298\u001b[0;31m \u001b[0;32mfrom\u001b[0m \u001b[0msympy\u001b[0m\u001b[0;34m.\u001b[0m\u001b[0mpolys\u001b[0m\u001b[0;34m.\u001b[0m\u001b[0mrings\u001b[0m \u001b[0;32mimport\u001b[0m \u001b[0mring\u001b[0m\u001b[0;34m\u001b[0m\u001b[0;34m\u001b[0m\u001b[0m\n\u001b[0m\u001b[1;32m    299\u001b[0m \u001b[0;34m\u001b[0m\u001b[0m\n\u001b[1;32m    300\u001b[0m \u001b[0;32mdef\u001b[0m \u001b[0m_f_0\u001b[0m\u001b[0;34m(\u001b[0m\u001b[0;34m)\u001b[0m\u001b[0;34m:\u001b[0m\u001b[0;34m\u001b[0m\u001b[0;34m\u001b[0m\u001b[0m\n",
            "\u001b[0;31mKeyboardInterrupt\u001b[0m: "
          ]
        }
      ],
      "source": [
        "from typing import List\n",
        "\n",
        "import networkx as nx\n",
        "from classiq import *\n",
        "import math\n",
        "import matplotlib.pyplot as plt\n",
        "import numpy as np\n",
        "from scipy.optimize import minimize\n",
        "from classiq.execution import ExecutionSession, ExecutionPreferences"
      ]
    },
    {
      "cell_type": "markdown",
      "id": "7e5b8849-6460-4ab1-b661-f650ff6f8dbf",
      "metadata": {
        "id": "7e5b8849-6460-4ab1-b661-f650ff6f8dbf"
      },
      "source": [
        "#### First we will solve the problem without adding constraint.\n",
        "Just:\n",
        "\n",
        "$$\\begin{equation*}\n",
        "\\min_{w \\in D}  w^T \\Sigma w - \\mu^T w\n",
        "\\end{equation*}$$\n",
        "\n",
        "#### Then, we will add equality constraint:\n",
        "\n",
        "\n",
        "$$\\begin{equation*}\n",
        "\\min_{w \\in D}  w^T \\Sigma w - \\mu^T w\n",
        "\\end{equation*}$$\n",
        "subject to:\n",
        "$$\\Sigma_{i} w_i == B$$.\n",
        "\n",
        "#### Finaly, we will add inequality constraints:\n",
        "\n",
        "$$\\begin{equation*}\n",
        "\\min_{w \\in D}  w^T \\Sigma w - \\mu^T w,\n",
        "\\end{equation*}$$\n",
        "subject to:\n",
        "$$\\Sigma_{i} w_i \\leq B$$"
      ]
    },
    {
      "cell_type": "markdown",
      "id": "e8e9ec0e",
      "metadata": {
        "id": "e8e9ec0e"
      },
      "source": [
        "# The Portfolio Optimization Problem Parameters\n",
        "\n",
        "First we define the parameters of the optimization problem, which include the expected return vector, the covariance matrix, the total budget and the asset-specific budgets:"
      ]
    },
    {
      "cell_type": "code",
      "execution_count": null,
      "id": "6212e51c",
      "metadata": {
        "pycharm": {
          "name": "#%%\n"
        },
        "tags": [],
        "id": "6212e51c"
      },
      "outputs": [],
      "source": [
        "returns = np.array([3, 4, -1])\n",
        "# fmt: off\n",
        "covariances = np.array(\n",
        "    [\n",
        "        [ 0.9,  0.5, -0.7],\n",
        "        [ 0.5,  0.9, -0.2],\n",
        "        [-0.7, -0.2,  0.9],\n",
        "    ]\n",
        ")\n",
        "# fmt: on\n",
        "total_budget = 6"
      ]
    },
    {
      "cell_type": "markdown",
      "id": "26b76418-b96a-4076-8c39-cd32bb38e238",
      "metadata": {
        "id": "26b76418-b96a-4076-8c39-cd32bb38e238"
      },
      "source": [
        "## Defining the variables"
      ]
    },
    {
      "cell_type": "code",
      "execution_count": null,
      "id": "38ba3dd2-c843-45fb-8ad2-c89882bb292c",
      "metadata": {
        "id": "38ba3dd2-c843-45fb-8ad2-c89882bb292c"
      },
      "outputs": [],
      "source": [
        "num_assets = 3\n",
        "\n",
        "num_qubits_per_asset = 2 # Defines the possible values of choosing each asset.\n",
        "\n",
        "class PortfolioOptimizationVars(QStruct):\n",
        "    a: QArray[QNum[num_qubits_per_asset], num_assets]"
      ]
    },
    {
      "cell_type": "markdown",
      "id": "4324f835-ca83-40dc-83f8-6f99407cd211",
      "metadata": {
        "id": "4324f835-ca83-40dc-83f8-6f99407cd211"
      },
      "source": [
        "### Define the expected return\n",
        "Define a function that describes $\\mu^T w$ where $\\mu$ is the `return` vector."
      ]
    },
    {
      "cell_type": "code",
      "execution_count": null,
      "id": "3b14c4f2-5031-454a-9638-15ea9fd252dd",
      "metadata": {
        "id": "3b14c4f2-5031-454a-9638-15ea9fd252dd"
      },
      "outputs": [],
      "source": [
        "def expected_return_cost(returns: np.ndarray, w_array: PortfolioOptimizationVars) -> float:\n",
        "    # Your code here\n",
        "    return pass"
      ]
    },
    {
      "cell_type": "markdown",
      "id": "4adb51f3-0623-4a62-9c9f-b7d514abc00d",
      "metadata": {
        "id": "4adb51f3-0623-4a62-9c9f-b7d514abc00d"
      },
      "source": [
        "### Define the risk term\n",
        "Define a function that describes the risk term in the objective function $w^T \\Sigma w$ where $\\Sigma$ is the `covariances` matrix.\n"
      ]
    },
    {
      "cell_type": "code",
      "execution_count": null,
      "id": "ddd211dd-57da-45d9-bc31-273670731eb7",
      "metadata": {
        "id": "ddd211dd-57da-45d9-bc31-273670731eb7"
      },
      "outputs": [],
      "source": [
        "def risk_cost(covariances: np.ndarray, w_array: PortfolioOptimizationVars) -> float:\n",
        "    # Your code here\n",
        "    risk_term =  sum(\n",
        "        ... * sum(... for j in range(covariances.shape[0])) for i in range(covariances.shape[0])\n",
        "    )\n",
        "    return risk_term"
      ]
    },
    {
      "cell_type": "markdown",
      "id": "1ad5238e-1441-4272-a96d-acc26ae57778",
      "metadata": {
        "id": "1ad5238e-1441-4272-a96d-acc26ae57778"
      },
      "source": [
        "### Define the entire portfolio optimization objective function\n",
        "\n",
        "Combine the risk term and the expected return functions.\n",
        "There a a term called return coefficient `return_coeff` that defines how much you prefer certainly over return. Higher values is more risky but can be more profitable.\n",
        "\n",
        "Later try changing it to see how the result changes.\n",
        "\n",
        "<details>\n",
        "<summary>\n",
        "Answer\n",
        "</summary>\n",
        "The function takes two named inputs:\n",
        "\n",
        "    def expected_return_cost(returns: np.ndarray, w_array: PortfolioOptimizationVars) -> float:\n",
        "    return sum(returns[i] * w_array.a[i] for i in range(len(returns)))\n",
        "\n",
        "\n",
        "\n",
        "    def risk_cost(covariances: np.ndarray, w_array: PortfolioOptimizationVars) -> float:\n",
        "        risk_term =  sum(\n",
        "            w_array.a[i] * sum(w_array.a[j] * covariances[i][j] for j in range(covariances.shape[0])) for i in range(covariances.shape[0])\n",
        "        )\n",
        "        return risk_term\n",
        "    \n",
        "    \n",
        "    def objective_portfolio(w_array: PortfolioOptimizationVars, returns: np.ndarray, covariances: np.ndarray, return_coeff: float) -> float:\n",
        "        return risk_cost(covariances, w_array) - return_coeff * expected_return_cost(returns, w_array)\n",
        "\n",
        "\n",
        "</details>"
      ]
    },
    {
      "cell_type": "code",
      "execution_count": null,
      "id": "d6bd7c68-5308-4839-a93d-36d4417422c7",
      "metadata": {
        "id": "d6bd7c68-5308-4839-a93d-36d4417422c7"
      },
      "outputs": [],
      "source": [
        "return_coeff = 10.0\n",
        "\n",
        "def objective_portfolio(\n",
        "    w_array: PortfolioOptimizationVars,\n",
        "    returns: np.ndarray, covariances: np.ndarray,\n",
        "    return_coeff: float) -> float:\n",
        "    # Your code here\n",
        "    return pass\n"
      ]
    },
    {
      "cell_type": "markdown",
      "id": "330a4a66-2131-4d31-91c1-3e50e61939bb",
      "metadata": {
        "id": "330a4a66-2131-4d31-91c1-3e50e61939bb"
      },
      "source": [
        "# Build the QAOA circuit"
      ]
    },
    {
      "cell_type": "code",
      "execution_count": null,
      "id": "adf3d831-98b0-4368-b9e7-f09666963fe6",
      "metadata": {
        "id": "adf3d831-98b0-4368-b9e7-f09666963fe6"
      },
      "outputs": [],
      "source": [
        "@qfunc\n",
        "def mixer_layer(beta: CReal, qba: QArray[QBit]):\n",
        "    # Your code here\n",
        "    pass"
      ]
    },
    {
      "cell_type": "code",
      "execution_count": null,
      "id": "6ada4337-706d-4d57-81e8-ec324cc594a2",
      "metadata": {
        "id": "6ada4337-706d-4d57-81e8-ec324cc594a2"
      },
      "outputs": [],
      "source": [
        "NUM_LAYERS = 4\n",
        "\n",
        "@qfunc\n",
        "def main(\n",
        "    params: CArray[CReal, 2 * NUM_LAYERS],\n",
        "    w_array: Output[PortfolioOptimizationVars]) -> None:\n",
        "    # Your code here\n",
        "\n",
        "    # Allocating the qubits\n",
        "    allocate(num_qubits_per_asset * num_assets, w_array)\n",
        "\n",
        "    # Build the QAOA circuit similarly to the maxcut\n",
        "    pass"
      ]
    },
    {
      "cell_type": "markdown",
      "id": "c4635335-aaf8-4400-ac5d-a945371c4fbf",
      "metadata": {
        "id": "c4635335-aaf8-4400-ac5d-a945371c4fbf"
      },
      "source": [
        "## Synthesizing and visualizing"
      ]
    },
    {
      "cell_type": "code",
      "execution_count": null,
      "id": "d87b0c1a-7ac6-431b-8bc9-9bd729a5afe1",
      "metadata": {
        "id": "d87b0c1a-7ac6-431b-8bc9-9bd729a5afe1"
      },
      "outputs": [],
      "source": [
        "qmod = create_model(main)\n",
        "qprog = synthesize(qmod)\n",
        "show(qprog)"
      ]
    },
    {
      "cell_type": "markdown",
      "id": "45090031-c412-4d16-958c-d478945f0fc9",
      "metadata": {
        "id": "45090031-c412-4d16-958c-d478945f0fc9"
      },
      "source": [
        "## Execution and post processing\n",
        "\n",
        "For the hybrid execution, we use `ExecutionSession`, which can evaluate the circuit in multiple methods, such as sampling the circuit, giving specific values for the parameters, and evaluating to a specific Hamiltonian, which is very common in chemical applications.\n",
        "\n",
        "In QAOA, we will use the `estimate_cost` method, which samples the cost function and returns their average cost from all measurements. That helps to optimize easily."
      ]
    },
    {
      "cell_type": "code",
      "execution_count": null,
      "id": "16acd6a4-db04-495e-985b-af32af9e1a00",
      "metadata": {
        "id": "16acd6a4-db04-495e-985b-af32af9e1a00"
      },
      "outputs": [],
      "source": [
        "NUM_SHOTS = 1000\n",
        "\n",
        "es = ExecutionSession(\n",
        "    qprog, execution_preferences=ExecutionPreferences(num_shots=NUM_SHOTS)\n",
        ")\n",
        "\n",
        "\n",
        "# Build `initial_params` list of np.array type.\n",
        "# The gamma values should start from 0 and, in each layer, should approach closer to 1 linearly\n",
        "# The beta values should start from 1 and in each layer, should approach closer to 0 linearly\n",
        "# Then unify it to one list so scipy minimize can digest it.\n",
        "# Your code here\n",
        "\n",
        "initial_params = initial_qaoa_params(NUM_LAYERS)"
      ]
    },
    {
      "cell_type": "markdown",
      "source": [
        "## Define a callback function to track the optimization"
      ],
      "metadata": {
        "collapsed": false,
        "id": "a9yBi5IqeZ8O"
      },
      "id": "a9yBi5IqeZ8O"
    },
    {
      "cell_type": "code",
      "execution_count": null,
      "outputs": [],
      "source": [
        "# Record the steps of the optimization\n",
        "intermediate_params = []\n",
        "objective_values = []\n",
        "\n",
        "# Define the callback function to store the intermediate steps\n",
        "def callback(xk):\n",
        "    intermediate_params.append(xk)"
      ],
      "metadata": {
        "id": "BbPEv4CweZ8O"
      },
      "id": "BbPEv4CweZ8O"
    },
    {
      "cell_type": "markdown",
      "id": "6e164011-0baa-4300-a337-430749683599",
      "metadata": {
        "id": "6e164011-0baa-4300-a337-430749683599"
      },
      "source": [
        "## Define the objective function"
      ]
    },
    {
      "cell_type": "code",
      "execution_count": null,
      "id": "fddf3739-d81a-492b-8eec-49b4a08c6f8a",
      "metadata": {
        "id": "fddf3739-d81a-492b-8eec-49b4a08c6f8a"
      },
      "outputs": [],
      "source": [
        "cost_func = lambda state: objective_portfolio(\n",
        "    w_array = ...,\n",
        "    returns = ...,\n",
        "    covariances = ...,\n",
        "    return_coeff= ...\n",
        ")\n",
        "def estimate_cost_func(params: np.ndarray) -> float:\n",
        "    objective_value = es.estimate_cost(\n",
        "        cost_func = ...,\n",
        "        parameters = {\"params\": params.tolist()}\n",
        "    )\n",
        "    # Your code here\n",
        "    # Save the result for convergence graph\n",
        "\n",
        "    return objective_value"
      ]
    },
    {
      "cell_type": "markdown",
      "id": "6d74bf05-3849-4ded-aebe-2a642e9baaa3",
      "metadata": {
        "id": "6d74bf05-3849-4ded-aebe-2a642e9baaa3"
      },
      "source": [
        "## Optimize"
      ]
    },
    {
      "cell_type": "code",
      "execution_count": null,
      "id": "b0955a84-e63f-45ba-bbb6-12de7d83ed8f",
      "metadata": {
        "id": "b0955a84-e63f-45ba-bbb6-12de7d83ed8f"
      },
      "outputs": [],
      "source": [
        "optimization_res = minimize(\n",
        "    fun = ...,\n",
        "    x0=...,\n",
        "    method=\"COBYLA\",\n",
        "    callback=...,\n",
        "    options={\"maxiter\": 10},\n",
        ")"
      ]
    },
    {
      "cell_type": "markdown",
      "id": "b5b83326-df90-4105-a6a5-f617fdf6cf2e",
      "metadata": {
        "id": "b5b83326-df90-4105-a6a5-f617fdf6cf2e"
      },
      "source": [
        "## Look at the results"
      ]
    },
    {
      "cell_type": "code",
      "execution_count": null,
      "id": "732b6138-e1a4-4276-93ac-5c8df4985a6e",
      "metadata": {
        "id": "732b6138-e1a4-4276-93ac-5c8df4985a6e"
      },
      "outputs": [],
      "source": [
        "res = es.sample({\"params\": optimization_res.x.tolist()})\n",
        "\n",
        "print(f\"Optimized parameters: {optimization_res.x.tolist()}\")\n",
        "\n",
        "sorted_counts = sorted(res.parsed_counts, key=lambda pc: objective_portfolio(pc.state[\"w_array\"],returns = returns, covariances = covariances, return_coeff= return_coeff))\n",
        "\n",
        "for sampled in sorted_counts:\n",
        "    w_sample = sampled.state[\"w_array\"]\n",
        "    print(f\"solution={w_sample} probability={sampled.shots/NUM_SHOTS} \"\n",
        "          f\"cost={objective_portfolio(w_array=w_sample,returns = returns, covariances = covariances, return_coeff= return_coeff)}\")\n"
      ]
    },
    {
      "cell_type": "markdown",
      "id": "8fccb093-9791-43d9-bf23-eeb3a390b75a",
      "metadata": {
        "id": "8fccb093-9791-43d9-bf23-eeb3a390b75a"
      },
      "source": [
        "## Convergence graph"
      ]
    },
    {
      "cell_type": "code",
      "execution_count": null,
      "id": "33b4b3b5-fe83-4c96-9404-66d64063082a",
      "metadata": {
        "id": "33b4b3b5-fe83-4c96-9404-66d64063082a"
      },
      "outputs": [],
      "source": [
        "plt.plot(objective_values)\n",
        "plt.xlabel(\"Iteration\")\n",
        "plt.ylabel(\"Objective Value\")\n",
        "plt.title(\"Optimization Progress\")"
      ]
    },
    {
      "cell_type": "markdown",
      "id": "12177a69-5698-403f-8daf-3159ba656b8b",
      "metadata": {
        "id": "12177a69-5698-403f-8daf-3159ba656b8b"
      },
      "source": [
        "# Solution"
      ]
    },
    {
      "cell_type": "code",
      "execution_count": 1,
      "id": "72de469d-debc-45d4-a5c6-1946373673c0",
      "metadata": {
        "id": "72de469d-debc-45d4-a5c6-1946373673c0",
        "colab": {
          "base_uri": "https://localhost:8080/",
          "height": 384
        },
        "outputId": "710a24b9-50fa-48fa-c0ba-85b4b1f9e405"
      },
      "outputs": [
        {
          "output_type": "error",
          "ename": "ModuleNotFoundError",
          "evalue": "No module named 'classiq'",
          "traceback": [
            "\u001b[0;31m---------------------------------------------------------------------------\u001b[0m",
            "\u001b[0;31mModuleNotFoundError\u001b[0m                       Traceback (most recent call last)",
            "\u001b[0;32m<ipython-input-1-e9cd2fab6870>\u001b[0m in \u001b[0;36m<cell line: 0>\u001b[0;34m()\u001b[0m\n\u001b[1;32m      2\u001b[0m \u001b[0;34m\u001b[0m\u001b[0m\n\u001b[1;32m      3\u001b[0m \u001b[0;32mimport\u001b[0m \u001b[0mnetworkx\u001b[0m \u001b[0;32mas\u001b[0m \u001b[0mnx\u001b[0m\u001b[0;34m\u001b[0m\u001b[0;34m\u001b[0m\u001b[0m\n\u001b[0;32m----> 4\u001b[0;31m \u001b[0;32mfrom\u001b[0m \u001b[0mclassiq\u001b[0m \u001b[0;32mimport\u001b[0m \u001b[0;34m*\u001b[0m\u001b[0;34m\u001b[0m\u001b[0;34m\u001b[0m\u001b[0m\n\u001b[0m\u001b[1;32m      5\u001b[0m \u001b[0;32mimport\u001b[0m \u001b[0mmath\u001b[0m\u001b[0;34m\u001b[0m\u001b[0;34m\u001b[0m\u001b[0m\n\u001b[1;32m      6\u001b[0m \u001b[0;32mimport\u001b[0m \u001b[0mmatplotlib\u001b[0m\u001b[0;34m.\u001b[0m\u001b[0mpyplot\u001b[0m \u001b[0;32mas\u001b[0m \u001b[0mplt\u001b[0m\u001b[0;34m\u001b[0m\u001b[0;34m\u001b[0m\u001b[0m\n",
            "\u001b[0;31mModuleNotFoundError\u001b[0m: No module named 'classiq'",
            "",
            "\u001b[0;31m---------------------------------------------------------------------------\u001b[0;32m\nNOTE: If your import is failing due to a missing package, you can\nmanually install dependencies using either !pip or !apt.\n\nTo view examples of installing some common dependencies, click the\n\"Open Examples\" button below.\n\u001b[0;31m---------------------------------------------------------------------------\u001b[0m\n"
          ],
          "errorDetails": {
            "actions": [
              {
                "action": "open_url",
                "actionText": "Open Examples",
                "url": "/notebooks/snippets/importing_libraries.ipynb"
              }
            ]
          }
        }
      ],
      "source": [
        "from typing import List\n",
        "\n",
        "import networkx as nx\n",
        "from classiq import *\n",
        "import math\n",
        "import matplotlib.pyplot as plt\n",
        "import numpy as np\n",
        "from scipy.optimize import minimize\n",
        "from classiq.execution import ExecutionSession, ExecutionPreferences\n",
        "\n",
        "NUM_LAYERS = 3\n",
        "\n",
        "returns = np.array([3, 4, -1])\n",
        "# fmt: off\n",
        "covariances = np.array(\n",
        "    [\n",
        "        [ 0.9,  0.5, -0.7],\n",
        "        [ 0.5,  0.9, -0.2],\n",
        "        [-0.7, -0.2,  0.9],\n",
        "    ]\n",
        ")\n",
        "# fmt: on\n",
        "total_budget = 6\n",
        "specific_budgets = 3\n",
        "\n",
        "return_coeff = 10.0\n",
        "\n",
        "num_assets = 3\n",
        "\n",
        "num_qubits_per_asset = 2\n",
        "\n",
        "# start with integer variables\n",
        "\n",
        "class PortfolioOptimizationVars(QStruct):\n",
        "    a: QArray[QNum[num_qubits_per_asset], num_assets]\n",
        "\n",
        "\n",
        "\n",
        "def expected_return_cost(returns: np.ndarray, w_array: PortfolioOptimizationVars) -> float:\n",
        "    return sum(returns[i] * w_array.a[i] for i in range(len(returns)))\n",
        "\n",
        "\n",
        "\n",
        "def risk_cost(covariances: np.ndarray, w_array: PortfolioOptimizationVars) -> float:\n",
        "    risk_term =  sum(\n",
        "        w_array.a[i] * sum(w_array.a[j] * covariances[i][j] for j in range(covariances.shape[0])) for i in range(covariances.shape[0])\n",
        "    )\n",
        "    return risk_term\n",
        "\n",
        "\n",
        "def objective_portfolio(w_array: PortfolioOptimizationVars, returns: np.ndarray, covariances: np.ndarray, return_coeff: float) -> float:\n",
        "    return risk_cost(covariances, w_array) - return_coeff * expected_return_cost(returns, w_array)\n",
        "\n",
        "\n",
        "\n",
        "@qfunc\n",
        "def mixer_layer(beta: CReal, qba: QArray[QBit]):\n",
        "    apply_to_all(lambda q: RX(beta, q), qba)\n",
        "\n",
        "@qfunc\n",
        "def main(params: CArray[CReal, 2 * NUM_LAYERS], w_array: Output[PortfolioOptimizationVars]) -> None:\n",
        "\n",
        "    allocate(num_qubits_per_asset * num_assets, w_array)\n",
        "\n",
        "    hadamard_transform(w_array)\n",
        "\n",
        "    repeat(\n",
        "        count=params.len / 2,\n",
        "        iteration=lambda i: (\n",
        "            phase(\n",
        "                expr= objective_portfolio(w_array, returns, covariances, return_coeff),\n",
        "                theta = params[2 * i]\n",
        "            ),\n",
        "            mixer_layer(params[2 * i + 1], w_array)\n",
        "        )\n",
        "    )\n",
        "\n",
        "qmod = create_model(main)\n",
        "qprog = synthesize(qmod)\n",
        "show(qprog)\n",
        "\n",
        "\n",
        "NUM_SHOTS = 1000\n",
        "\n",
        "es = ExecutionSession(\n",
        "    qprog, execution_preferences=ExecutionPreferences(num_shots=NUM_SHOTS)\n",
        ")\n",
        "\n",
        "def initial_qaoa_params(NUM_LAYERS) -> np.ndarray:\n",
        "    initial_gammas = math.pi * np.linspace(0, 1, NUM_LAYERS)\n",
        "    initial_betas = math.pi * np.linspace(1, 0, NUM_LAYERS)\n",
        "\n",
        "    initial_params = []\n",
        "\n",
        "    for i in range(NUM_LAYERS):\n",
        "        initial_params.append(initial_gammas[i])\n",
        "        initial_params.append(initial_betas[i])\n",
        "\n",
        "    return np.array(initial_params)\n",
        "\n",
        "initial_params = initial_qaoa_params(NUM_LAYERS)\n",
        "\n",
        "# Record the steps of the optimization\n",
        "intermediate_params = []\n",
        "objective_values = []\n",
        "\n",
        "# Define the callback function to store the intermediate steps\n",
        "def callback(xk):\n",
        "    intermediate_params.append(xk)\n",
        "\n",
        "cost_func = lambda state: objective_portfolio(\n",
        "    w_array = state[\"w_array\"],\n",
        "    returns = returns,\n",
        "    covariances = covariances,\n",
        "    return_coeff= return_coeff\n",
        ")\n",
        "def estimate_cost_func(params: np.ndarray) -> float:\n",
        "    objective_value = es.estimate_cost(\n",
        "        cost_func = cost_func,\n",
        "        parameters = {\"params\": params.tolist()}\n",
        "    )\n",
        "    objective_values.append(objective_value)\n",
        "    return objective_value\n",
        "\n",
        "\n",
        "\n",
        "optimization_res = minimize(\n",
        "    fun = estimate_cost_func,\n",
        "    x0=initial_params,\n",
        "    method=\"COBYLA\",\n",
        "    callback=callback,\n",
        "    options={\"maxiter\": 10},\n",
        ")\n",
        "\n",
        "res = es.sample({\"params\": optimization_res.x.tolist()})\n",
        "\n",
        "print(f\"Optimized parameters: {optimization_res.x.tolist()}\")\n",
        "\n",
        "sorted_counts = sorted(res.parsed_counts, key=lambda pc: objective_portfolio(pc.state[\"w_array\"],returns = returns, covariances = covariances, return_coeff= return_coeff))\n",
        "\n",
        "for sampled in sorted_counts:\n",
        "    w_sample = sampled.state[\"w_array\"]\n",
        "    print(f\"solution={w_sample} probability={sampled.shots/NUM_SHOTS} \"\n",
        "          f\"cost={objective_portfolio(w_array=w_sample,returns = returns, covariances = covariances, return_coeff= return_coeff)}\")\n",
        "\n",
        "plt.plot(objective_values)\n",
        "plt.xlabel(\"Iteration\")\n",
        "plt.ylabel(\"Objective Value\")\n",
        "plt.title(\"Optimization Progress\")"
      ]
    },
    {
      "cell_type": "markdown",
      "id": "77f418ba-cd34-415e-b0c4-7b5f2cc7eca7",
      "metadata": {
        "id": "77f418ba-cd34-415e-b0c4-7b5f2cc7eca7"
      },
      "source": [
        "# Adding equality constraint"
      ]
    },
    {
      "cell_type": "markdown",
      "id": "8699a8d2-8c2e-467d-b6cb-f34acd37583e",
      "metadata": {
        "id": "8699a8d2-8c2e-467d-b6cb-f34acd37583e"
      },
      "source": [
        "The method to deal with equality constraint, namely:\n",
        "\n",
        "$$\\begin{equation*}\n",
        "\\min_{w \\in D}  w^T \\Sigma w - \\mu^T w\n",
        "\\end{equation*}$$\n",
        "subject to:\n",
        "$$\\Sigma_{i} w_i == B$$\n",
        "\n",
        "is to add a penalty term to lead us to the set of valid solutions. To do so, we will change the objective function as follow:\n",
        "\n",
        "$$\\begin{equation*}\n",
        "\\min_{w \\in D}  w^T \\Sigma w - \\mu^T w + P * (\\Sigma_{i} w_i - B)^2\n",
        "\\end{equation*}$$\n",
        "\n",
        "Where $P$ is the penalty value you need to define."
      ]
    },
    {
      "cell_type": "markdown",
      "id": "b9b21da7-4e79-4344-be19-d5eb1e9fbeea",
      "metadata": {
        "id": "b9b21da7-4e79-4344-be19-d5eb1e9fbeea"
      },
      "source": [
        "## Define the objective value with the penalty term\n",
        "\n",
        "<details>\n",
        "<summary>\n",
        "Answer\n",
        "</summary>\n",
        "The function takes two named inputs:\n",
        "\n",
        "    def objective_portfolio_equality(w_array: PortfolioOptimizationVars, returns: np.ndarray, covariances: np.ndarray, return_coeff: float) -> float:\n",
        "        return risk_cost(covariances, w_array) - \\\n",
        "            return_coeff * expected_return_cost(returns, w_array) + \\\n",
        "            Penalty * (sum(w_array.a[i] for i in range(len(returns))) - total_budget)**2\n",
        "\n",
        "\n",
        "</details>"
      ]
    },
    {
      "cell_type": "code",
      "execution_count": null,
      "id": "d79b29fa-4492-4518-8e01-37c2e79527ff",
      "metadata": {
        "id": "d79b29fa-4492-4518-8e01-37c2e79527ff"
      },
      "outputs": [],
      "source": [
        "PENALTY = 20.0\n",
        "\n",
        "\n",
        "def objective_portfolio_equality(w_array: PortfolioOptimizationVars, returns: np.ndarray, covariances: np.ndarray, return_coeff: float) -> float:\n",
        "    # Your code here\n",
        "    return pass\n"
      ]
    },
    {
      "cell_type": "markdown",
      "id": "bb76d1bd-11c2-49c9-82d8-41b835f6fd84",
      "metadata": {
        "id": "bb76d1bd-11c2-49c9-82d8-41b835f6fd84"
      },
      "source": [
        "#### Repeat the whole process all over again with `objective_portfolio_equality`"
      ]
    },
    {
      "cell_type": "markdown",
      "id": "6d8c15b7-d9cd-4a26-a97a-dfe0d35d716a",
      "metadata": {
        "id": "6d8c15b7-d9cd-4a26-a97a-dfe0d35d716a"
      },
      "source": [
        "# Solution"
      ]
    },
    {
      "cell_type": "code",
      "execution_count": 1,
      "id": "7710435a-154a-4b23-be09-eaa191f6315b",
      "metadata": {
        "id": "7710435a-154a-4b23-be09-eaa191f6315b",
        "colab": {
          "base_uri": "https://localhost:8080/",
          "height": 1000
        },
        "outputId": "150e6576-fa7d-4d96-d805-b074099ff045"
      },
      "outputs": [
        {
          "output_type": "stream",
          "name": "stdout",
          "text": [
            "Your user code: JGPJ-BZTX\n",
            "If a browser doesn't automatically open, please visit this URL from any trusted device: https://auth.classiq.io/activate?user_code=JGPJ-BZTX\n",
            "Opening: https://platform.classiq.io/circuit/2sc0lhBrxTPPnjNAV0onLJfp3fZ?version=0.67.0\n",
            "Optimized parameters: [1.0109603934133278, 4.154824492269586, 1.6849227243177596, 1.5442733340789623, 4.1723065724679484, -0.024757695440275864]\n",
            "solution={'a': [3, 3, 0]} probability=0.006 cost=-184.8\n",
            "solution={'a': [2, 3, 1]} probability=0.038 cost=-155.4\n",
            "solution={'a': [3, 2, 1]} probability=0.025 cost=-146.4\n",
            "solution={'a': [3, 3, 1]} probability=0.005 cost=-139.3\n",
            "solution={'a': [2, 3, 0]} probability=0.025 cost=-122.30000000000001\n",
            "solution={'a': [1, 3, 2]} probability=0.071 cost=-119.6\n",
            "solution={'a': [2, 2, 2]} probability=0.013 cost=-112.4\n",
            "solution={'a': [3, 2, 0]} probability=0.023 cost=-112.30000000000001\n",
            "solution={'a': [2, 3, 2]} probability=0.096 cost=-106.69999999999999\n",
            "solution={'a': [3, 1, 2]} probability=0.001 cost=-103.6\n",
            "solution={'a': [3, 2, 2]} probability=0.03 cost=-98.69999999999999\n",
            "solution={'a': [2, 2, 1]} probability=0.021 cost=-81.5\n",
            "solution={'a': [0, 3, 3]} probability=0.012 cost=-77.4\n",
            "solution={'a': [1, 2, 3]} probability=0.07 cost=-72.0\n",
            "solution={'a': [3, 1, 1]} probability=0.002 cost=-71.7\n",
            "solution={'a': [1, 3, 3]} probability=0.022 cost=-67.7\n",
            "solution={'a': [2, 1, 3]} probability=0.013 cost=-65.0\n",
            "solution={'a': [2, 2, 3]} probability=0.004 cost=-61.5\n",
            "solution={'a': [3, 0, 3]} probability=0.019 cost=-56.4\n",
            "solution={'a': [3, 1, 3]} probability=0.027 cost=-53.7\n",
            "solution={'a': [0, 3, 2]} probability=0.015 cost=-50.7\n",
            "solution={'a': [1, 2, 2]} probability=0.011 cost=-44.3\n",
            "solution={'a': [2, 1, 2]} probability=0.005 cost=-36.3\n",
            "solution={'a': [3, 0, 2]} probability=0.032 cost=-26.700000000000003\n",
            "solution={'a': [3, 3, 2]} probability=0.009 cost=-12.0\n",
            "solution={'a': [0, 2, 3]} probability=0.006 cost=-0.7000000000000028\n",
            "solution={'a': [1, 1, 3]} probability=0.011 cost=5.5\n",
            "solution={'a': [2, 0, 3]} probability=0.007 cost=13.3\n",
            "solution={'a': [1, 3, 0]} probability=0.022 cost=22.0\n",
            "solution={'a': [2, 3, 3]} probability=0.001 cost=23.80000000000001\n",
            "solution={'a': [3, 2, 3]} probability=0.002 cost=30.80000000000001\n",
            "solution={'a': [2, 2, 0]} probability=0.038 cost=31.19999999999999\n",
            "solution={'a': [3, 1, 0]} probability=0.003 cost=42.0\n",
            "solution={'a': [1, 2, 1]} probability=0.021 cost=65.2\n",
            "solution={'a': [2, 1, 1]} probability=0.005 cost=74.2\n",
            "solution={'a': [3, 0, 1]} probability=0.004 cost=84.8\n",
            "solution={'a': [0, 2, 2]} probability=0.01 cost=105.6\n",
            "solution={'a': [1, 1, 2]} probability=0.015 cost=112.8\n",
            "solution={'a': [0, 1, 3]} probability=0.015 cost=157.8\n",
            "solution={'a': [1, 0, 3]} probability=0.01 cost=164.8\n",
            "solution={'a': [3, 3, 3]} probability=0.017 cost=197.1\n",
            "solution={'a': [0, 3, 0]} probability=0.003 cost=248.1\n",
            "solution={'a': [2, 1, 0]} probability=0.001 cost=266.5\n",
            "solution={'a': [3, 0, 0]} probability=0.024 cost=278.1\n",
            "solution={'a': [0, 2, 1]} probability=0.009 cost=293.7\n",
            "solution={'a': [0, 1, 2]} probability=0.015 cost=343.7\n",
            "solution={'a': [1, 0, 2]} probability=0.017 cost=351.7\n",
            "solution={'a': [0, 0, 3]} probability=0.015 cost=398.1\n",
            "solution={'a': [0, 2, 0]} probability=0.029 cost=563.6\n",
            "solution={'a': [1, 1, 0]} probability=0.001 cost=572.8\n",
            "solution={'a': [2, 0, 0]} probability=0.025 cost=583.6\n",
            "solution={'a': [0, 1, 1]} probability=0.008 cost=611.4\n",
            "solution={'a': [1, 0, 1]} probability=0.042 cost=620.4\n",
            "solution={'a': [0, 0, 2]} probability=0.001 cost=663.6\n",
            "solution={'a': [0, 1, 0]} probability=0.009 cost=960.9\n",
            "solution={'a': [1, 0, 0]} probability=0.011 cost=970.9\n",
            "solution={'a': [0, 0, 1]} probability=0.008 cost=1010.9\n"
          ]
        },
        {
          "output_type": "execute_result",
          "data": {
            "text/plain": [
              "Text(0.5, 1.0, 'Optimization Progress')"
            ]
          },
          "metadata": {},
          "execution_count": 1
        },
        {
          "output_type": "display_data",
          "data": {
            "text/plain": [
              "<Figure size 640x480 with 1 Axes>"
            ],
            "image/png": "[encoded data removed]"
          },
          "metadata": {}
        }
      ],
      "source": [
        "from typing import List\n",
        "\n",
        "import networkx as nx\n",
        "from classiq import *\n",
        "import math\n",
        "import matplotlib.pyplot as plt\n",
        "import numpy as np\n",
        "from scipy.optimize import minimize\n",
        "from classiq.execution import ExecutionSession, ExecutionPreferences\n",
        "\n",
        "NUM_LAYERS = 3\n",
        "\n",
        "returns = np.array([3, 4, -1])\n",
        "# fmt: off\n",
        "covariances = np.array(\n",
        "    [\n",
        "        [ 0.9,  0.5, -0.7],\n",
        "        [ 0.5,  0.9, -0.2],\n",
        "        [-0.7, -0.2,  0.9],\n",
        "    ]\n",
        ")\n",
        "# fmt: on\n",
        "total_budget = 6\n",
        "specific_budgets = 3\n",
        "\n",
        "return_coeff = 10.0\n",
        "\n",
        "num_assets = 3\n",
        "\n",
        "num_qubits_per_asset = 2\n",
        "\n",
        "Penalty = 40.0\n",
        "\n",
        "# start with integer variables\n",
        "\n",
        "class PortfolioOptimizationVars(QStruct):\n",
        "    a: QArray[QNum[num_qubits_per_asset], num_assets]\n",
        "\n",
        "def expected_return_cost(returns: np.ndarray, w_array: PortfolioOptimizationVars) -> float:\n",
        "    return sum(returns[i] * w_array.a[i] for i in range(len(returns)))\n",
        "\n",
        "def risk_cost(covariances: np.ndarray, w_array: PortfolioOptimizationVars) -> float:\n",
        "    risk_term =  sum(\n",
        "        w_array.a[i] * sum(w_array.a[j] * covariances[i][j] for j in range(covariances.shape[0])) for i in range(covariances.shape[0])\n",
        "    )\n",
        "    return risk_term\n",
        "\n",
        "\n",
        "def objective_portfolio_equality(w_array: PortfolioOptimizationVars, returns: np.ndarray, covariances: np.ndarray, return_coeff: float) -> float:\n",
        "    return risk_cost(covariances, w_array) - \\\n",
        "        return_coeff * expected_return_cost(returns, w_array) + \\\n",
        "        Penalty * (sum(w_array.a[i] for i in range(len(returns))) - total_budget)**2\n",
        "\n",
        "\n",
        "@qfunc\n",
        "def mixer_layer(beta: CReal, qba: QArray[QBit]):\n",
        "    apply_to_all(lambda q: RX(beta, q), qba)\n",
        "\n",
        "@qfunc\n",
        "def main(params: CArray[CReal, 2 * NUM_LAYERS], w_array: Output[PortfolioOptimizationVars]) -> None:\n",
        "    # allocate(len(returns), w_array)\n",
        "    allocate(num_qubits_per_asset * num_assets, w_array)\n",
        "\n",
        "    hadamard_transform(w_array)\n",
        "\n",
        "    repeat(\n",
        "        count=params.len / 2,\n",
        "        iteration=lambda i: (\n",
        "            phase(\n",
        "                expr= objective_portfolio_equality(w_array, returns, covariances, return_coeff),\n",
        "                theta = params[2 * i]\n",
        "            ),\n",
        "            mixer_layer(params[2 * i + 1], w_array)\n",
        "        )\n",
        "    )\n",
        "\n",
        "qmod = create_model(main)\n",
        "authenticate()\n",
        "qprog = synthesize(qmod)\n",
        "show(qprog)\n",
        "\n",
        "\n",
        "NUM_SHOTS = 1000\n",
        "\n",
        "es = ExecutionSession(\n",
        "    qprog, execution_preferences=ExecutionPreferences(num_shots=NUM_SHOTS)\n",
        ")\n",
        "\n",
        "def initial_qaoa_params(NUM_LAYERS) -> np.ndarray:\n",
        "    initial_gammas = math.pi * np.linspace(0, 1, NUM_LAYERS)\n",
        "    initial_betas = math.pi * np.linspace(1, 0, NUM_LAYERS)\n",
        "\n",
        "    initial_params = []\n",
        "\n",
        "    for i in range(NUM_LAYERS):\n",
        "        initial_params.append(initial_gammas[i])\n",
        "        initial_params.append(initial_betas[i])\n",
        "\n",
        "    return np.array(initial_params)\n",
        "\n",
        "initial_params = initial_qaoa_params(NUM_LAYERS)\n",
        "\n",
        "# Record the steps of the optimization\n",
        "intermediate_params = []\n",
        "objective_values = []\n",
        "\n",
        "# Define the callback function to store the intermediate steps\n",
        "def callback(xk):\n",
        "    intermediate_params.append(xk)\n",
        "\n",
        "cost_func = lambda state: objective_portfolio_equality(state[\"w_array\"],returns = returns, covariances = covariances, return_coeff= return_coeff)\n",
        "def estimate_cost_func(params: np.ndarray) -> float:\n",
        "    objective_value = es.estimate_cost(\n",
        "        cost_func = cost_func,\n",
        "        parameters = {\"params\": params.tolist()}\n",
        "    )\n",
        "    objective_values.append(objective_value)\n",
        "    return objective_value\n",
        "\n",
        "\n",
        "optimization_res = minimize(\n",
        "    estimate_cost_func,\n",
        "    x0=initial_params,\n",
        "    method=\"COBYLA\",\n",
        "    callback=callback,\n",
        "    options={\"maxiter\": 40},\n",
        ")\n",
        "\n",
        "res = es.sample({\"params\": optimization_res.x.tolist()})\n",
        "\n",
        "print(f\"Optimized parameters: {optimization_res.x.tolist()}\")\n",
        "\n",
        "sorted_counts = sorted(res.parsed_counts, key=lambda pc: objective_portfolio_equality(pc.state[\"w_array\"],returns = returns, covariances = covariances, return_coeff= return_coeff))\n",
        "\n",
        "for sampled in sorted_counts:\n",
        "    w = sampled.state[\"w_array\"]\n",
        "    print(f\"solution={w} probability={sampled.shots/NUM_SHOTS} \"\n",
        "          f\"cost={objective_portfolio_equality(w_array=w,returns = returns, covariances = covariances, return_coeff= return_coeff)}\")\n",
        "\n",
        "plt.plot(objective_values)\n",
        "plt.xlabel(\"Iteration\")\n",
        "plt.ylabel(\"Objective Value\")\n",
        "plt.title(\"Optimization Progress\")\n"
      ]
    },
    {
      "cell_type": "code",
      "execution_count": null,
      "outputs": [],
      "source": [],
      "metadata": {
        "id": "FLa9xtg_eZ8V"
      },
      "id": "FLa9xtg_eZ8V"
    }
  ],
  "metadata": {
    "kernelspec": {
      "display_name": "Python 3 (ipykernel)",
      "language": "python",
      "name": "python3"
    },
    "language_info": {
      "codemirror_mode": {
        "name": "ipython",
        "version": 3
      },
      "file_extension": ".py",
      "mimetype": "text/x-python",
      "name": "python",
      "nbconvert_exporter": "python",
      "pygments_lexer": "ipython3",
      "version": "3.11.4"
    },
    "vscode": {
      "interpreter": {
        "hash": "a07aacdcc8a415e7643a2bc993226848ff70704ebef014f87460de9126b773d0"
      }
    },
    "colab": {
      "provenance": []
    }
  },
  "nbformat": 4,
  "nbformat_minor": 5
}