{
 "cells": [
  {
   "cell_type": "markdown",
   "id": "6a264eba-42cc-4800-8369-24b0891d167d",
   "metadata": {
    "id": "6a264eba-42cc-4800-8369-24b0891d167d"
   },
   "source": [
    "# Quantum Optimization Training - part 2\n",
    "## Dealing with constraint using portfolio optimization"
   ]
  },
  {
   "cell_type": "markdown",
   "id": "0c1662b0-2cb2-44f8-9c3b-452cf8e5b2cb",
   "metadata": {
    "id": "0c1662b0-2cb2-44f8-9c3b-452cf8e5b2cb"
   },
   "source": [
    "## Portfolio Optimization with the Quantum Approximate Optimization Algorithm (QAOA)\n",
    "\n",
    "### Introduction\n",
    "\n",
    "Portfolio optimization [[1](#PortfolioWiki)] is the process of allocating a portfolio of financial assets optimally, according to some predetermined goal. Usually, the goal is to maximize the potential return while minimizing the financial risk of the portfolio. One can express this problem as a combinatorial optimization problem like many other real-world problems. In this demo, we'll show how the Quantum Approximate Optimization Algorithm (QAOA) [[2](#QAOA)] can be employed on the Classiq platform to solve the problem of portfolio optimization.\n",
    "\n",
    "### Modeling the Portfolio Optimization Problem\n",
    "\n",
    "As a first step, we have to model the problem mathematically. We will use a simple yet powerful model, which captures the essence of portfolio optimization:\n",
    "\n",
    "- A portfolio is built from a pool of $n$ financial assets, each asset labeled $i \\in \\{1,\\ldots,n\\}$.\n",
    "- Every asset's return is a random variable, with expected value $\\mu_i$ and variance $\\Sigma_i$ (modeling the financial risk involved in the asset).\n",
    "- Every two assets $i \\neq j$ have covariance $\\Sigma_{ij}$ (modeling market correlation between assets).\n",
    "- Every asset $i$ has a weight $w_i \\in D_i = \\{0,\\ldots,b_i\\}$ in the portfolio, with $b_i$ defined as the budget for asset $i$ (modeling the maximum allowed weight of the asset).\n",
    "- The return vector $\\mu$, the covariance matrix $\\Sigma$ and the weight vector $w$ are defined naturally from the above (with the domain $D = D_1 \\times D_2 \\times \\ldots \\times D_n$ for $w$).\n",
    "\n",
    "With the above definitions, the total expected return of the portfolio is $\\mu^T w$ and the total risk is $w^T \\Sigma w$. We'll use a simple difference of the two as our cost function, with the additional constraint that the total sum of assets does not exceed a predefined budget $B$. We note that there are many other possibilities for defining a cost function (e.g. add a scaling factor to the risk/return or even some non-linear relation). For reasons of simplicity we select the model below, and we assume all constants and variables are dimensionless.\n",
    "Thus, the problem is, given the constant inputs $\\mu, \\Sigma, D, B$, to find optimal variable $w$ as follows:\n",
    "\n",
    "$\\begin{equation*}\n",
    "\\min_{w \\in D}  w^T \\Sigma w - \\mu^T w,\n",
    "\\end{equation*}$\n",
    "subject to $\\Sigma_{i} w_i \\leq B$.\n",
    "\n",
    "The case presented above is called integer portfolio optimization, since the domains $D_i$ are over the (positive) integers.\n",
    "Another variation of this problem defines weights over binary domains, and will not be discussed here.\n"
   ]
  },
  {
   "cell_type": "markdown",
   "id": "2b39e5fc-eea4-40a9-ba7b-d2e196e5b11e",
   "metadata": {
    "id": "2b39e5fc-eea4-40a9-ba7b-d2e196e5b11e"
   },
   "source": [
    "## References\n",
    "\n",
    "<a id='PortfolioWiki'>[1]</a>: [Portfolio Optimization (Wikipedia)](https://en.wikipedia.org/wiki/Portfolio_optimization)\n",
    "\n",
    "<a id='QAOA'>[2]</a>: [Farhi, Edward, Jeffrey Goldstone, and Sam Gutmann. \"A quantum approximate optimization algorithm.\" arXiv preprint arXiv:1411.4028 (2014).](https://arxiv.org/abs/1411.4028)"
   ]
  },
  {
   "cell_type": "code",
   "source": [
    "# !pip install classiq"
   ],
   "metadata": {
    "colab": {
     "base_uri": "https://localhost:8080/"
    },
    "id": "v4hmccB-PXhd",
    "outputId": "13d30935-2f6e-477c-a99d-c2125c5b0226",
    "ExecuteTime": {
     "end_time": "2025-02-09T14:05:25.661408Z",
     "start_time": "2025-02-09T14:05:25.656699Z"
    }
   },
   "id": "v4hmccB-PXhd",
   "execution_count": 1,
   "outputs": []
  },
  {
   "cell_type": "code",
   "execution_count": 2,
   "id": "952d49b3-5dc6-41a1-8822-0622df536cf7",
   "metadata": {
    "tags": [],
    "id": "952d49b3-5dc6-41a1-8822-0622df536cf7",
    "ExecuteTime": {
     "end_time": "2025-02-09T14:05:35.270403Z",
     "start_time": "2025-02-09T14:05:25.671671Z"
    }
   },
   "outputs": [],
   "source": [
    "from typing import List\n",
    "\n",
    "import networkx as nx\n",
    "from classiq import *\n",
    "import math\n",
    "import matplotlib.pyplot as plt\n",
    "import numpy as np\n",
    "from scipy.optimize import minimize\n",
    "from classiq.execution import ExecutionSession, ExecutionPreferences"
   ]
  },
  {
   "cell_type": "markdown",
   "id": "7e5b8849-6460-4ab1-b661-f650ff6f8dbf",
   "metadata": {
    "id": "7e5b8849-6460-4ab1-b661-f650ff6f8dbf"
   },
   "source": [
    "#### Finaly, we will add inequality constraints:\n",
    "\n",
    "$$\\begin{equation*}\n",
    "\\min_{w \\in D}  w^T \\Sigma w - \\mu^T w,\n",
    "\\end{equation*}$$\n",
    "subject to:\n",
    "$$\\Sigma_{i} w_i \\leq B$$\n",
    "\n",
    "**We will do it similarly to the equality constraint but we add slack variable that can take multiple values to make sure $\\Sigma_{i} w_i \\leq B$**\n",
    "\n",
    "In this case, we will change the objective function as follows:\n",
    "\n",
    "$$\\begin{equation*}\n",
    "\\min_{w \\in D}  w^T \\Sigma w - \\mu^T w + P * (\\Sigma_{i} w_i + slack - B)^2\n",
    "\\end{equation*}$$\n",
    "\n",
    "Where $P$ is the penalty value you need to define."
   ]
  },
  {
   "cell_type": "markdown",
   "id": "e8e9ec0e",
   "metadata": {
    "id": "e8e9ec0e"
   },
   "source": [
    "# The Portfolio Optimization Problem Parameters\n",
    "\n",
    "First we define the parameters of the optimization problem, which include the expected return vector, the covariance matrix, the total budget and the asset-specific budgets:"
   ]
  },
  {
   "cell_type": "code",
   "execution_count": 3,
   "id": "6212e51c",
   "metadata": {
    "pycharm": {
     "name": "#%%\n"
    },
    "tags": [],
    "id": "6212e51c",
    "ExecuteTime": {
     "end_time": "2025-02-09T14:05:35.276338Z",
     "start_time": "2025-02-09T14:05:35.272591Z"
    }
   },
   "outputs": [],
   "source": [
    "returns = np.array([3, 4, -1])\n",
    "# fmt: off\n",
    "covariances = np.array(\n",
    "    [\n",
    "        [ 0.9,  0.5, -0.7],\n",
    "        [ 0.5,  0.9, -0.2],\n",
    "        [-0.7, -0.2,  0.9],\n",
    "    ]\n",
    ")\n",
    "# fmt: on\n",
    "total_budget = 6"
   ]
  },
  {
   "cell_type": "markdown",
   "id": "26b76418-b96a-4076-8c39-cd32bb38e238",
   "metadata": {
    "id": "26b76418-b96a-4076-8c39-cd32bb38e238"
   },
   "source": [
    "## Defining the variables\n",
    "\n",
    "The number of slack qubits needs to reach to get to the number $B$."
   ]
  },
  {
   "cell_type": "code",
   "execution_count": 4,
   "id": "38ba3dd2-c843-45fb-8ad2-c89882bb292c",
   "metadata": {
    "id": "38ba3dd2-c843-45fb-8ad2-c89882bb292c",
    "ExecuteTime": {
     "end_time": "2025-02-09T14:05:35.280880Z",
     "start_time": "2025-02-09T14:05:35.278363Z"
    }
   },
   "outputs": [],
   "source": [
    "num_assets = 3\n",
    "\n",
    "num_qubits_per_asset = 2 # Defines the possible values of choosing each asset.\n",
    "\n",
    "num_slack = 3\n",
    "\n",
    "class PortfolioOptimizationVars(QStruct):\n",
    "    a: QArray[QNum[num_qubits_per_asset], num_assets]\n",
    "    slack: QNum[num_slack]"
   ]
  },
  {
   "cell_type": "markdown",
   "id": "4324f835-ca83-40dc-83f8-6f99407cd211",
   "metadata": {
    "id": "4324f835-ca83-40dc-83f8-6f99407cd211"
   },
   "source": [
    "### Define the expected return\n",
    "Define a function that describes $\\mu^T w$ where $\\mu$ is the `return` vector."
   ]
  },
  {
   "cell_type": "code",
   "execution_count": 5,
   "id": "3b14c4f2-5031-454a-9638-15ea9fd252dd",
   "metadata": {
    "id": "3b14c4f2-5031-454a-9638-15ea9fd252dd",
    "ExecuteTime": {
     "end_time": "2025-02-09T14:05:35.290399Z",
     "start_time": "2025-02-09T14:05:35.285538Z"
    }
   },
   "outputs": [],
   "source": [
    "def expected_return_cost(returns: np.ndarray, w_array: PortfolioOptimizationVars) -> float:\n",
    "    return sum([w_array.a[i]*returns[i] for i in range(len(returns))])"
   ]
  },
  {
   "cell_type": "markdown",
   "id": "4adb51f3-0623-4a62-9c9f-b7d514abc00d",
   "metadata": {
    "id": "4adb51f3-0623-4a62-9c9f-b7d514abc00d"
   },
   "source": [
    "### Define the risk term\n",
    "Define a function that describes the risk term in the objective function $w^T \\Sigma w$ where $\\Sigma$ is the `covariances` matrix.\n",
    "\n",
    "$$\\begin{equation*}\n",
    "\\min_{w \\in D}  w^T \\Sigma w - \\mu^T w + P * (\\Sigma_{i} w_i + slack - B)^2\n",
    "\\end{equation*}$$"
   ]
  },
  {
   "cell_type": "code",
   "execution_count": 6,
   "id": "ddd211dd-57da-45d9-bc31-273670731eb7",
   "metadata": {
    "id": "ddd211dd-57da-45d9-bc31-273670731eb7",
    "ExecuteTime": {
     "end_time": "2025-02-09T14:05:35.295438Z",
     "start_time": "2025-02-09T14:05:35.292012Z"
    }
   },
   "outputs": [],
   "source": [
    "def risk_cost(covariances: np.ndarray, w_array: PortfolioOptimizationVars) -> float:\n",
    "    risk_term =  sum(\n",
    "        w_array.a[i] * sum(w_array.a[j] * covariances[i][j] for j in range(covariances.shape[0])) for i in range(covariances.shape[0])\n",
    "    )\n",
    "    return risk_term"
   ]
  },
  {
   "cell_type": "markdown",
   "id": "1ad5238e-1441-4272-a96d-acc26ae57778",
   "metadata": {
    "id": "1ad5238e-1441-4272-a96d-acc26ae57778"
   },
   "source": [
    "### Define the entire portfolio optimization objective function\n",
    "\n",
    "Combine the risk term and the expected return functions.\n",
    "There a a term called return coefficient `return_coeff` that defines how much you prefer certainly over return. Higher values is more risky but can be more profitable.\n",
    "\n",
    "Later try changing it to see how the result changes.\n",
    "\n",
    "<details>\n",
    "<summary>\n",
    "Answer\n",
    "</summary>\n",
    "The function takes two named inputs:\n",
    "\n",
    "    def expected_return_cost(returns: np.ndarray, w_array: PortfolioOptimizationVars) -> float:\n",
    "    return sum(returns[i] * w_array.a[i] for i in range(len(returns)))\n",
    "\n",
    "\n",
    "\n",
    "    def risk_cost(covariances: np.ndarray, w_array: PortfolioOptimizationVars) -> float:\n",
    "        risk_term =  sum(\n",
    "            w_array.a[i] * sum(w_array.a[j] * covariances[i][j] for j in range(covariances.shape[0])) for i in range(covariances.shape[0])\n",
    "        )\n",
    "        return risk_term\n",
    "    \n",
    "    \n",
    "    def objective_portfolio_inequality(w_array: PortfolioOptimizationVars, returns: np.ndarray, covariances: np.ndarray, return_coeff: float) -> float:\n",
    "        return risk_cost(covariances, w_array) - \\\n",
    "            return_coeff * expected_return_cost(returns, w_array) + \\\n",
    "            Penalty * (sum(w_array.a[i] for i in range(len(returns))) + w_array.slack - total_budget)**2\n",
    "\n",
    "\n",
    "</details>"
   ]
  },
  {
   "cell_type": "code",
   "execution_count": 7,
   "id": "d6bd7c68-5308-4839-a93d-36d4417422c7",
   "metadata": {
    "id": "d6bd7c68-5308-4839-a93d-36d4417422c7",
    "ExecuteTime": {
     "end_time": "2025-02-09T14:05:35.301564Z",
     "start_time": "2025-02-09T14:05:35.296928Z"
    }
   },
   "outputs": [],
   "source": [
    "return_coeff = 10.0\n",
    "\n",
    "def objective_portfolio_inequality(\n",
    "    w_array: PortfolioOptimizationVars,\n",
    "    returns: np.ndarray, covariances: np.ndarray,\n",
    "    return_coeff: float) -> float:\n",
    "    # sum(wi)<=6\n",
    "    return Penalty*((total_budget-sum(w_array.a))-w_array.slack)**2 + risk_cost(covariances, w_array) - return_coeff*expected_return_cost(returns, w_array)\n"
   ]
  },
  {
   "cell_type": "markdown",
   "id": "330a4a66-2131-4d31-91c1-3e50e61939bb",
   "metadata": {
    "id": "330a4a66-2131-4d31-91c1-3e50e61939bb"
   },
   "source": [
    "# Build the QAOA circuit"
   ]
  },
  {
   "cell_type": "code",
   "execution_count": 8,
   "id": "adf3d831-98b0-4368-b9e7-f09666963fe6",
   "metadata": {
    "id": "adf3d831-98b0-4368-b9e7-f09666963fe6",
    "ExecuteTime": {
     "end_time": "2025-02-09T14:05:35.305740Z",
     "start_time": "2025-02-09T14:05:35.302863Z"
    }
   },
   "outputs": [],
   "source": [
    "@qfunc\n",
    "def mixer_layer(beta: CReal, qba: QArray[QBit]):\n",
    "    # Your code here\n",
    "    pass"
   ]
  },
  {
   "cell_type": "code",
   "execution_count": 9,
   "id": "6ada4337-706d-4d57-81e8-ec324cc594a2",
   "metadata": {
    "id": "6ada4337-706d-4d57-81e8-ec324cc594a2",
    "ExecuteTime": {
     "end_time": "2025-02-09T14:05:35.311550Z",
     "start_time": "2025-02-09T14:05:35.306918Z"
    }
   },
   "outputs": [],
   "source": [
    "NUM_LAYERS = 4\n",
    "\n",
    "@qfunc\n",
    "def main(\n",
    "    params: CArray[CReal, 2 * NUM_LAYERS],\n",
    "    w_array: Output[PortfolioOptimizationVars]) -> None:\n",
    "\n",
    "    # Allocating the qubits\n",
    "    allocate(num_assets*num_qubits_per_asset+num_slack, w_array)\n",
    "    hadamard_transform()\n",
    "\n",
    "    #Do not forget the slack qubits#\n",
    "\n",
    "    # Build the QAOA circuit similarly to the maxcut\n",
    "    for i in range(NUM_LAYERS):\n",
    "        phase(\n",
    "            objective_portfolio_inequality(),  # edge 0-2\n",
    "            gammas[i],\n",
    "        )\n",
    "        apply_to_all(lambda q: RX(betas[i], q), v)"
   ]
  },
  {
   "cell_type": "markdown",
   "id": "c4635335-aaf8-4400-ac5d-a945371c4fbf",
   "metadata": {
    "id": "c4635335-aaf8-4400-ac5d-a945371c4fbf"
   },
   "source": [
    "## Synthesizing and visualizing"
   ]
  },
  {
   "cell_type": "code",
   "execution_count": 10,
   "id": "d87b0c1a-7ac6-431b-8bc9-9bd729a5afe1",
   "metadata": {
    "id": "d87b0c1a-7ac6-431b-8bc9-9bd729a5afe1",
    "ExecuteTime": {
     "end_time": "2025-02-09T14:05:35.652973Z",
     "start_time": "2025-02-09T14:05:35.314942Z"
    }
   },
   "outputs": [
    {
     "ename": "ClassiqValueError",
     "evalue": "Missing required argument for parameter 'target'\nIf you need further assistance, please reach out on our Community Slack channel at: https://short.classiq.io/join-slack or open a support ticket at: https://classiq-community.freshdesk.com/support/tickets/new",
     "output_type": "error",
     "traceback": [
      "\u001B[0;31m---------------------------------------------------------------------------\u001B[0m",
      "\u001B[0;31mClassiqValueError\u001B[0m                         Traceback (most recent call last)",
      "Cell \u001B[0;32mIn[10], line 1\u001B[0m\n\u001B[0;32m----> 1\u001B[0m qmod \u001B[38;5;241m=\u001B[39m \u001B[43mcreate_model\u001B[49m\u001B[43m(\u001B[49m\u001B[43mmain\u001B[49m\u001B[43m)\u001B[49m\n\u001B[1;32m      2\u001B[0m qprog \u001B[38;5;241m=\u001B[39m synthesize(qmod)\n\u001B[1;32m      3\u001B[0m show(qprog)\n",
      "File \u001B[0;32m~/Rnd/classiq-library/.venv/lib/python3.9/site-packages/classiq/qmod/create_model_function.py:45\u001B[0m, in \u001B[0;36mcreate_model\u001B[0;34m(entry_point, constraints, execution_preferences, preferences, classical_execution_function, out_file)\u001B[0m\n\u001B[1;32m     40\u001B[0m \u001B[38;5;28;01mif\u001B[39;00m entry_point\u001B[38;5;241m.\u001B[39mfunc_decl\u001B[38;5;241m.\u001B[39mname \u001B[38;5;241m!=\u001B[39m MAIN_FUNCTION_NAME:\n\u001B[1;32m     41\u001B[0m     \u001B[38;5;28;01mraise\u001B[39;00m ClassiqError(\n\u001B[1;32m     42\u001B[0m         \u001B[38;5;124mf\u001B[39m\u001B[38;5;124m\"\u001B[39m\u001B[38;5;124mThe entry point function must be named \u001B[39m\u001B[38;5;124m'\u001B[39m\u001B[38;5;124mmain\u001B[39m\u001B[38;5;124m'\u001B[39m\u001B[38;5;124m, got \u001B[39m\u001B[38;5;124m'\u001B[39m\u001B[38;5;132;01m{\u001B[39;00mentry_point\u001B[38;5;241m.\u001B[39mfunc_decl\u001B[38;5;241m.\u001B[39mname\u001B[38;5;132;01m}\u001B[39;00m\u001B[38;5;124m'\u001B[39m\u001B[38;5;124m\"\u001B[39m\n\u001B[1;32m     43\u001B[0m     )\n\u001B[0;32m---> 45\u001B[0m model \u001B[38;5;241m=\u001B[39m \u001B[43mentry_point\u001B[49m\u001B[38;5;241;43m.\u001B[39;49m\u001B[43mcreate_model\u001B[49m\u001B[43m(\u001B[49m\n\u001B[1;32m     46\u001B[0m \u001B[43m    \u001B[49m\u001B[43mconstraints\u001B[49m\u001B[43m,\u001B[49m\n\u001B[1;32m     47\u001B[0m \u001B[43m    \u001B[49m\u001B[43mexecution_preferences\u001B[49m\u001B[43m,\u001B[49m\n\u001B[1;32m     48\u001B[0m \u001B[43m    \u001B[49m\u001B[43mpreferences\u001B[49m\u001B[43m,\u001B[49m\n\u001B[1;32m     49\u001B[0m \u001B[43m    \u001B[49m\u001B[43mclassical_execution_function\u001B[49m\u001B[43m,\u001B[49m\n\u001B[1;32m     50\u001B[0m \u001B[43m\u001B[49m\u001B[43m)\u001B[49m\n\u001B[1;32m     51\u001B[0m result \u001B[38;5;241m=\u001B[39m model\u001B[38;5;241m.\u001B[39mget_model()\n\u001B[1;32m     53\u001B[0m \u001B[38;5;28;01mif\u001B[39;00m out_file \u001B[38;5;129;01mis\u001B[39;00m \u001B[38;5;129;01mnot\u001B[39;00m \u001B[38;5;28;01mNone\u001B[39;00m:\n",
      "File \u001B[0;32m~/Rnd/classiq-library/.venv/lib/python3.9/site-packages/classiq/qmod/quantum_function.py:132\u001B[0m, in \u001B[0;36mQFunc.create_model\u001B[0;34m(self, constraints, execution_preferences, preferences, classical_execution_function)\u001B[0m\n\u001B[1;32m    130\u001B[0m \u001B[38;5;28mself\u001B[39m\u001B[38;5;241m.\u001B[39m_qmodule\u001B[38;5;241m.\u001B[39mfunction_dependencies \u001B[38;5;241m=\u001B[39m defaultdict(\u001B[38;5;28mlist\u001B[39m)\n\u001B[1;32m    131\u001B[0m QConstant\u001B[38;5;241m.\u001B[39mset_current_model(\u001B[38;5;28mself\u001B[39m\u001B[38;5;241m.\u001B[39m_qmodule)\n\u001B[0;32m--> 132\u001B[0m \u001B[38;5;28;43mself\u001B[39;49m\u001B[38;5;241;43m.\u001B[39;49m\u001B[43mexpand\u001B[49m\u001B[43m(\u001B[49m\u001B[43m)\u001B[49m\n\u001B[1;32m    133\u001B[0m model_extra_settings: \u001B[38;5;28mlist\u001B[39m[\u001B[38;5;28mtuple\u001B[39m[\u001B[38;5;28mstr\u001B[39m, Any]] \u001B[38;5;241m=\u001B[39m [\n\u001B[1;32m    134\u001B[0m     (\u001B[38;5;124m\"\u001B[39m\u001B[38;5;124mconstraints\u001B[39m\u001B[38;5;124m\"\u001B[39m, constraints),\n\u001B[1;32m    135\u001B[0m     (\u001B[38;5;124m\"\u001B[39m\u001B[38;5;124mexecution_preferences\u001B[39m\u001B[38;5;124m\"\u001B[39m, execution_preferences),\n\u001B[1;32m    136\u001B[0m     (\u001B[38;5;124m\"\u001B[39m\u001B[38;5;124mpreferences\u001B[39m\u001B[38;5;124m\"\u001B[39m, preferences),\n\u001B[1;32m    137\u001B[0m ]\n\u001B[1;32m    138\u001B[0m \u001B[38;5;28;01mif\u001B[39;00m classical_execution_function \u001B[38;5;129;01mis\u001B[39;00m \u001B[38;5;129;01mnot\u001B[39;00m \u001B[38;5;28;01mNone\u001B[39;00m:\n",
      "File \u001B[0;32m~/Rnd/classiq-library/.venv/lib/python3.9/site-packages/classiq/qmod/quantum_function.py:183\u001B[0m, in \u001B[0;36mQFunc.expand\u001B[0;34m(self)\u001B[0m\n\u001B[1;32m    181\u001B[0m \u001B[38;5;28;01mif\u001B[39;00m \u001B[38;5;28mself\u001B[39m\u001B[38;5;241m.\u001B[39mfunc_decl\u001B[38;5;241m.\u001B[39mname \u001B[38;5;129;01min\u001B[39;00m \u001B[38;5;28mself\u001B[39m\u001B[38;5;241m.\u001B[39m_qmodule\u001B[38;5;241m.\u001B[39mnative_defs:\n\u001B[1;32m    182\u001B[0m     \u001B[38;5;28;01mreturn\u001B[39;00m\n\u001B[0;32m--> 183\u001B[0m \u001B[38;5;28;43msuper\u001B[39;49m\u001B[43m(\u001B[49m\u001B[43m)\u001B[49m\u001B[38;5;241;43m.\u001B[39;49m\u001B[43mexpand\u001B[49m\u001B[43m(\u001B[49m\u001B[43m)\u001B[49m\n\u001B[1;32m    184\u001B[0m \u001B[38;5;28mself\u001B[39m\u001B[38;5;241m.\u001B[39m_qmodule\u001B[38;5;241m.\u001B[39mnative_defs[\u001B[38;5;28mself\u001B[39m\u001B[38;5;241m.\u001B[39mfunc_decl\u001B[38;5;241m.\u001B[39mname] \u001B[38;5;241m=\u001B[39m NativeFunctionDefinition(\n\u001B[1;32m    185\u001B[0m     \u001B[38;5;241m*\u001B[39m\u001B[38;5;241m*\u001B[39m{\u001B[38;5;241m*\u001B[39m\u001B[38;5;241m*\u001B[39m\u001B[38;5;28mself\u001B[39m\u001B[38;5;241m.\u001B[39mfunc_decl\u001B[38;5;241m.\u001B[39mmodel_dump(), \u001B[38;5;241m*\u001B[39m\u001B[38;5;241m*\u001B[39m{\u001B[38;5;124m\"\u001B[39m\u001B[38;5;124mbody\u001B[39m\u001B[38;5;124m\"\u001B[39m: \u001B[38;5;28mself\u001B[39m\u001B[38;5;241m.\u001B[39mbody}}\n\u001B[1;32m    186\u001B[0m )\n\u001B[1;32m    187\u001B[0m \u001B[38;5;28;01mif\u001B[39;00m \u001B[38;5;28mself\u001B[39m\u001B[38;5;241m.\u001B[39mcompilation_metadata \u001B[38;5;129;01mis\u001B[39;00m \u001B[38;5;129;01mnot\u001B[39;00m \u001B[38;5;28;01mNone\u001B[39;00m:\n",
      "File \u001B[0;32m~/Rnd/classiq-library/.venv/lib/python3.9/site-packages/classiq/qmod/quantum_expandable.py:111\u001B[0m, in \u001B[0;36mQExpandable.expand\u001B[0;34m(self)\u001B[0m\n\u001B[1;32m    109\u001B[0m \u001B[38;5;28;01mif\u001B[39;00m \u001B[38;5;28mself\u001B[39m \u001B[38;5;129;01mnot\u001B[39;00m \u001B[38;5;129;01min\u001B[39;00m QExpandable\u001B[38;5;241m.\u001B[39mSTACK:\n\u001B[1;32m    110\u001B[0m     \u001B[38;5;28;01mwith\u001B[39;00m \u001B[38;5;28mself\u001B[39m, generative_mode_context(\u001B[38;5;28;01mFalse\u001B[39;00m):\n\u001B[0;32m--> 111\u001B[0m         \u001B[38;5;28;43mself\u001B[39;49m\u001B[38;5;241;43m.\u001B[39;49m\u001B[43m_py_callable\u001B[49m\u001B[43m(\u001B[49m\u001B[38;5;241;43m*\u001B[39;49m\u001B[38;5;28;43mself\u001B[39;49m\u001B[38;5;241;43m.\u001B[39;49m\u001B[43m_get_positional_args\u001B[49m\u001B[43m(\u001B[49m\u001B[43m)\u001B[49m\u001B[43m)\u001B[49m\n",
      "Cell \u001B[0;32mIn[9], line 10\u001B[0m, in \u001B[0;36mmain\u001B[0;34m(params, w_array)\u001B[0m\n\u001B[1;32m      3\u001B[0m \u001B[38;5;129m@qfunc\u001B[39m\n\u001B[1;32m      4\u001B[0m \u001B[38;5;28;01mdef\u001B[39;00m\u001B[38;5;250m \u001B[39m\u001B[38;5;21mmain\u001B[39m(\n\u001B[1;32m      5\u001B[0m     params: CArray[CReal, \u001B[38;5;241m2\u001B[39m \u001B[38;5;241m*\u001B[39m NUM_LAYERS],\n\u001B[1;32m      6\u001B[0m     w_array: Output[PortfolioOptimizationVars]) \u001B[38;5;241m-\u001B[39m\u001B[38;5;241m>\u001B[39m \u001B[38;5;28;01mNone\u001B[39;00m:\n\u001B[1;32m      7\u001B[0m \n\u001B[1;32m      8\u001B[0m     \u001B[38;5;66;03m# Allocating the qubits\u001B[39;00m\n\u001B[1;32m      9\u001B[0m     allocate(num_assets\u001B[38;5;241m*\u001B[39mnum_qubits_per_asset\u001B[38;5;241m+\u001B[39mnum_slack, w_array)\n\u001B[0;32m---> 10\u001B[0m     \u001B[43mhadamard_transform\u001B[49m\u001B[43m(\u001B[49m\u001B[43m)\u001B[49m\n\u001B[1;32m     12\u001B[0m     \u001B[38;5;66;03m#Do not forget the slack qubits#\u001B[39;00m\n\u001B[1;32m     13\u001B[0m \n\u001B[1;32m     14\u001B[0m     \u001B[38;5;66;03m# Build the QAOA circuit similarly to the maxcut\u001B[39;00m\n\u001B[1;32m     15\u001B[0m     \u001B[38;5;28;01mfor\u001B[39;00m i \u001B[38;5;129;01min\u001B[39;00m \u001B[38;5;28mrange\u001B[39m(NUM_LAYERS):\n",
      "File \u001B[0;32m~/Rnd/classiq-library/.venv/lib/python3.9/site-packages/classiq/qmod/quantum_function.py:114\u001B[0m, in \u001B[0;36mQFunc.__call__\u001B[0;34m(self, *args, **kwargs)\u001B[0m\n\u001B[1;32m    112\u001B[0m \u001B[38;5;28;01mdef\u001B[39;00m\u001B[38;5;250m \u001B[39m\u001B[38;5;21m__call__\u001B[39m(\u001B[38;5;28mself\u001B[39m, \u001B[38;5;241m*\u001B[39margs: Any, \u001B[38;5;241m*\u001B[39m\u001B[38;5;241m*\u001B[39mkwargs: Any) \u001B[38;5;241m-\u001B[39m\u001B[38;5;241m>\u001B[39m \u001B[38;5;28;01mNone\u001B[39;00m:\n\u001B[1;32m    113\u001B[0m     \u001B[38;5;28mself\u001B[39m\u001B[38;5;241m.\u001B[39mexpand()\n\u001B[0;32m--> 114\u001B[0m     \u001B[38;5;28;43msuper\u001B[39;49m\u001B[43m(\u001B[49m\u001B[43m)\u001B[49m\u001B[38;5;241;43m.\u001B[39;49m\u001B[38;5;21;43m__call__\u001B[39;49m\u001B[43m(\u001B[49m\u001B[38;5;241;43m*\u001B[39;49m\u001B[43margs\u001B[49m\u001B[43m,\u001B[49m\u001B[43m \u001B[49m\u001B[38;5;241;43m*\u001B[39;49m\u001B[38;5;241;43m*\u001B[39;49m\u001B[43mkwargs\u001B[49m\u001B[43m)\u001B[49m\n",
      "File \u001B[0;32m~/Rnd/classiq-library/.venv/lib/python3.9/site-packages/classiq/qmod/quantum_expandable.py:105\u001B[0m, in \u001B[0;36mQExpandable.__call__\u001B[0;34m(self, *args, **kwargs)\u001B[0m\n\u001B[1;32m    104\u001B[0m \u001B[38;5;28;01mdef\u001B[39;00m\u001B[38;5;250m \u001B[39m\u001B[38;5;21m__call__\u001B[39m(\u001B[38;5;28mself\u001B[39m, \u001B[38;5;241m*\u001B[39margs: Any, \u001B[38;5;241m*\u001B[39m\u001B[38;5;241m*\u001B[39mkwargs: Any) \u001B[38;5;241m-\u001B[39m\u001B[38;5;241m>\u001B[39m \u001B[38;5;28;01mNone\u001B[39;00m:\n\u001B[0;32m--> 105\u001B[0m     \u001B[38;5;28;43msuper\u001B[39;49m\u001B[43m(\u001B[49m\u001B[43m)\u001B[49m\u001B[38;5;241;43m.\u001B[39;49m\u001B[38;5;21;43m__call__\u001B[39;49m\u001B[43m(\u001B[49m\u001B[38;5;241;43m*\u001B[39;49m\u001B[43margs\u001B[49m\u001B[43m,\u001B[49m\u001B[43m \u001B[49m\u001B[38;5;241;43m*\u001B[39;49m\u001B[38;5;241;43m*\u001B[39;49m\u001B[43mkwargs\u001B[49m\u001B[43m)\u001B[49m\n\u001B[1;32m    106\u001B[0m     \u001B[38;5;28mself\u001B[39m\u001B[38;5;241m.\u001B[39madd_function_dependencies()\n",
      "File \u001B[0;32m~/Rnd/classiq-library/.venv/lib/python3.9/site-packages/classiq/qmod/quantum_callable.py:55\u001B[0m, in \u001B[0;36mQCallable.__call__\u001B[0;34m(self, *args, **kwargs)\u001B[0m\n\u001B[1;32m     52\u001B[0m \u001B[38;5;28;01massert\u001B[39;00m QCallable\u001B[38;5;241m.\u001B[39mCURRENT_EXPANDABLE \u001B[38;5;129;01mis\u001B[39;00m \u001B[38;5;129;01mnot\u001B[39;00m \u001B[38;5;28;01mNone\u001B[39;00m\n\u001B[1;32m     53\u001B[0m source_ref \u001B[38;5;241m=\u001B[39m get_source_ref(sys\u001B[38;5;241m.\u001B[39m_getframe(\u001B[38;5;28mself\u001B[39m\u001B[38;5;241m.\u001B[39mFRAME_DEPTH))\n\u001B[1;32m     54\u001B[0m QCallable\u001B[38;5;241m.\u001B[39mCURRENT_EXPANDABLE\u001B[38;5;241m.\u001B[39mappend_statement_to_body(\n\u001B[0;32m---> 55\u001B[0m     \u001B[38;5;28;43mself\u001B[39;49m\u001B[38;5;241;43m.\u001B[39;49m\u001B[43mcreate_quantum_function_call\u001B[49m\u001B[43m(\u001B[49m\u001B[43msource_ref\u001B[49m\u001B[43m,\u001B[49m\u001B[43m \u001B[49m\u001B[38;5;241;43m*\u001B[39;49m\u001B[43margs\u001B[49m\u001B[43m,\u001B[49m\u001B[43m \u001B[49m\u001B[38;5;241;43m*\u001B[39;49m\u001B[38;5;241;43m*\u001B[39;49m\u001B[43mkwargs\u001B[49m\u001B[43m)\u001B[49m\n\u001B[1;32m     56\u001B[0m )\n\u001B[1;32m     57\u001B[0m \u001B[38;5;28;01mreturn\u001B[39;00m\n",
      "File \u001B[0;32m~/Rnd/classiq-library/.venv/lib/python3.9/site-packages/classiq/qmod/quantum_expandable.py:164\u001B[0m, in \u001B[0;36mQExpandable.create_quantum_function_call\u001B[0;34m(self, source_ref_, *args, **kwargs)\u001B[0m\n\u001B[1;32m    162\u001B[0m \u001B[38;5;28;01mif\u001B[39;00m \u001B[38;5;129;01mnot\u001B[39;00m \u001B[38;5;28misinstance\u001B[39m(func_decl, QuantumFunctionDeclaration):\n\u001B[1;32m    163\u001B[0m     \u001B[38;5;28;01mraise\u001B[39;00m \u001B[38;5;167;01mNotImplementedError\u001B[39;00m\n\u001B[0;32m--> 164\u001B[0m \u001B[38;5;28;01mreturn\u001B[39;00m \u001B[43m_create_quantum_function_call\u001B[49m\u001B[43m(\u001B[49m\n\u001B[1;32m    165\u001B[0m \u001B[43m    \u001B[49m\u001B[43mfunc_decl\u001B[49m\u001B[43m,\u001B[49m\u001B[43m \u001B[49m\u001B[38;5;28;43;01mNone\u001B[39;49;00m\u001B[43m,\u001B[49m\u001B[43m \u001B[49m\u001B[43msource_ref_\u001B[49m\u001B[43m,\u001B[49m\u001B[43m \u001B[49m\u001B[38;5;241;43m*\u001B[39;49m\u001B[43margs\u001B[49m\u001B[43m,\u001B[49m\u001B[43m \u001B[49m\u001B[38;5;241;43m*\u001B[39;49m\u001B[38;5;241;43m*\u001B[39;49m\u001B[43mkwargs\u001B[49m\n\u001B[1;32m    166\u001B[0m \u001B[43m\u001B[49m\u001B[43m)\u001B[49m\n",
      "File \u001B[0;32m~/Rnd/classiq-library/.venv/lib/python3.9/site-packages/classiq/qmod/quantum_expandable.py:459\u001B[0m, in \u001B[0;36m_create_quantum_function_call\u001B[0;34m(decl_, index_, source_ref_, *args, **kwargs)\u001B[0m\n\u001B[1;32m    457\u001B[0m arg_decls \u001B[38;5;241m=\u001B[39m decl_\u001B[38;5;241m.\u001B[39mpositional_arg_declarations\n\u001B[1;32m    458\u001B[0m arg_list \u001B[38;5;241m=\u001B[39m \u001B[38;5;28mlist\u001B[39m(args)\n\u001B[0;32m--> 459\u001B[0m prepared_args \u001B[38;5;241m=\u001B[39m \u001B[43m_prepare_args\u001B[49m\u001B[43m(\u001B[49m\u001B[43mdecl_\u001B[49m\u001B[43m,\u001B[49m\u001B[43m \u001B[49m\u001B[43marg_list\u001B[49m\u001B[43m,\u001B[49m\u001B[43m \u001B[49m\u001B[43mkwargs\u001B[49m\u001B[43m)\u001B[49m\n\u001B[1;32m    461\u001B[0m \u001B[38;5;28;01mif\u001B[39;00m kwargs:\n\u001B[1;32m    462\u001B[0m     bad_kwarg \u001B[38;5;241m=\u001B[39m \u001B[38;5;28mnext\u001B[39m(\u001B[38;5;28miter\u001B[39m(kwargs))\n",
      "File \u001B[0;32m~/Rnd/classiq-library/.venv/lib/python3.9/site-packages/classiq/qmod/quantum_expandable.py:443\u001B[0m, in \u001B[0;36m_prepare_args\u001B[0;34m(decl, arg_list, kwargs)\u001B[0m\n\u001B[1;32m    441\u001B[0m     \u001B[38;5;28;01mif\u001B[39;00m \u001B[38;5;28misinstance\u001B[39m(arg_decl, AnonQuantumOperandDeclaration):\n\u001B[1;32m    442\u001B[0m         error_message \u001B[38;5;241m+\u001B[39m\u001B[38;5;241m=\u001B[39m _get_operand_hint(decl, arg_decl)\n\u001B[0;32m--> 443\u001B[0m     \u001B[38;5;28;01mraise\u001B[39;00m ClassiqValueError(error_message)\n\u001B[1;32m    444\u001B[0m param_name \u001B[38;5;241m=\u001B[39m arg_decl\u001B[38;5;241m.\u001B[39mname \u001B[38;5;28;01mif\u001B[39;00m arg_decl\u001B[38;5;241m.\u001B[39mname \u001B[38;5;129;01mis\u001B[39;00m \u001B[38;5;129;01mnot\u001B[39;00m \u001B[38;5;28;01mNone\u001B[39;00m \u001B[38;5;28;01melse\u001B[39;00m \u001B[38;5;124mf\u001B[39m\u001B[38;5;124m\"\u001B[39m\u001B[38;5;124m#\u001B[39m\u001B[38;5;132;01m{\u001B[39;00midx\u001B[38;5;250m \u001B[39m\u001B[38;5;241m+\u001B[39m\u001B[38;5;250m \u001B[39m\u001B[38;5;241m1\u001B[39m\u001B[38;5;132;01m}\u001B[39;00m\u001B[38;5;124m\"\u001B[39m\n\u001B[1;32m    445\u001B[0m result\u001B[38;5;241m.\u001B[39mappend(prepare_arg(arg_decl, arg, decl\u001B[38;5;241m.\u001B[39mname, param_name))\n",
      "\u001B[0;31mClassiqValueError\u001B[0m: Missing required argument for parameter 'target'\nIf you need further assistance, please reach out on our Community Slack channel at: https://short.classiq.io/join-slack or open a support ticket at: https://classiq-community.freshdesk.com/support/tickets/new"
     ]
    }
   ],
   "source": [
    "qmod = create_model(main)\n",
    "qprog = synthesize(qmod)\n",
    "show(qprog)"
   ]
  },
  {
   "cell_type": "markdown",
   "id": "45090031-c412-4d16-958c-d478945f0fc9",
   "metadata": {
    "id": "45090031-c412-4d16-958c-d478945f0fc9"
   },
   "source": [
    "## Execution and post processing\n",
    "\n",
    "For the hybrid execution, we use `ExecutionSession`, which can evaluate the circuit in multiple methods, such as sampling the circuit, giving specific values for the parameters, and evaluating to a specific Hamiltonian, which is very common in chemical applications.\n",
    "\n",
    "In QAOA, we will use the `estimate_cost` method, which samples the cost function and returns their average cost from all measurements. That helps to optimize easily."
   ]
  },
  {
   "cell_type": "code",
   "execution_count": null,
   "id": "16acd6a4-db04-495e-985b-af32af9e1a00",
   "metadata": {
    "id": "16acd6a4-db04-495e-985b-af32af9e1a00",
    "ExecuteTime": {
     "end_time": "2025-02-09T14:05:35.654470Z",
     "start_time": "2025-02-09T14:05:35.654397Z"
    }
   },
   "outputs": [],
   "source": [
    "NUM_SHOTS = 1000\n",
    "\n",
    "es = ExecutionSession(\n",
    "    qprog, execution_preferences=ExecutionPreferences(num_shots=NUM_SHOTS)\n",
    ")\n",
    "\n",
    "\n",
    "# Build `initial_params` list of np.array type.\n",
    "# The gamma values should start from 0 and, in each layer, should approach closer to 1 linearly\n",
    "# The beta values should start from 1 and in each layer, should approach closer to 0 linearly\n",
    "# Then unify it to one list so scipy minimize can digest it.\n",
    "# Your code here\n",
    "\n",
    "initial_params = initial_qaoa_params(NUM_LAYERS)"
   ]
  },
  {
   "cell_type": "markdown",
   "source": [
    "## Define a callback function to track the optimization"
   ],
   "metadata": {
    "collapsed": false,
    "id": "elfDTha4CCvo"
   },
   "id": "elfDTha4CCvo"
  },
  {
   "cell_type": "code",
   "execution_count": null,
   "outputs": [],
   "source": [
    "# Record the steps of the optimization\n",
    "intermediate_params = []\n",
    "objective_values = []\n",
    "\n",
    "# Define the callback function to store the intermediate steps\n",
    "def callback(xk):\n",
    "    intermediate_params.append(xk)"
   ],
   "metadata": {
    "id": "duPt2gRbCCvo"
   },
   "id": "duPt2gRbCCvo"
  },
  {
   "cell_type": "markdown",
   "id": "6e164011-0baa-4300-a337-430749683599",
   "metadata": {
    "id": "6e164011-0baa-4300-a337-430749683599"
   },
   "source": [
    "## Define the objective function"
   ]
  },
  {
   "cell_type": "code",
   "execution_count": null,
   "id": "fddf3739-d81a-492b-8eec-49b4a08c6f8a",
   "metadata": {
    "id": "fddf3739-d81a-492b-8eec-49b4a08c6f8a"
   },
   "outputs": [],
   "source": [
    "cost_func = lambda state: objective_portfolio_inequality(\n",
    "    w_array = ...,\n",
    "    returns = ...,\n",
    "    covariances = ...,\n",
    "    return_coeff= ...\n",
    ")\n",
    "def estimate_cost_func(params: np.ndarray) -> float:\n",
    "    objective_value = es.estimate_cost(\n",
    "        cost_func = ...,\n",
    "        parameters = {\"params\": params.tolist()}\n",
    "    )\n",
    "    # Your code here\n",
    "    # Save the result for convergence graph\n",
    "\n",
    "    return objective_value"
   ]
  },
  {
   "cell_type": "markdown",
   "id": "6d74bf05-3849-4ded-aebe-2a642e9baaa3",
   "metadata": {
    "id": "6d74bf05-3849-4ded-aebe-2a642e9baaa3"
   },
   "source": [
    "## Optimize"
   ]
  },
  {
   "cell_type": "code",
   "execution_count": null,
   "id": "b0955a84-e63f-45ba-bbb6-12de7d83ed8f",
   "metadata": {
    "id": "b0955a84-e63f-45ba-bbb6-12de7d83ed8f"
   },
   "outputs": [],
   "source": [
    "optimization_res = minimize(\n",
    "    fun = ...,\n",
    "    x0=...,\n",
    "    method=\"COBYLA\",\n",
    "    callback=...,\n",
    "    options={\"maxiter\": 10},\n",
    ")"
   ]
  },
  {
   "cell_type": "markdown",
   "id": "b5b83326-df90-4105-a6a5-f617fdf6cf2e",
   "metadata": {
    "id": "b5b83326-df90-4105-a6a5-f617fdf6cf2e"
   },
   "source": [
    "## Look at the results"
   ]
  },
  {
   "cell_type": "code",
   "execution_count": null,
   "id": "732b6138-e1a4-4276-93ac-5c8df4985a6e",
   "metadata": {
    "id": "732b6138-e1a4-4276-93ac-5c8df4985a6e"
   },
   "outputs": [],
   "source": [
    "res = es.sample({\"params\": optimization_res.x.tolist()})\n",
    "\n",
    "print(f\"Optimized parameters: {optimization_res.x.tolist()}\")\n",
    "\n",
    "sorted_counts = sorted(res.parsed_counts, key=lambda pc: objective_portfolio_inequality(pc.state[\"w_array\"],returns = returns, covariances = covariances, return_coeff= return_coeff))\n",
    "\n",
    "for sampled in sorted_counts:\n",
    "    w_sample = sampled.state[\"w_array\"]\n",
    "    print(f\"solution={w_sample} probability={sampled.shots/NUM_SHOTS} \"\n",
    "          f\"cost={objective_portfolio_inequality(w_array=w_sample,returns = returns, covariances = covariances, return_coeff= return_coeff)}\")\n"
   ]
  },
  {
   "cell_type": "markdown",
   "id": "8fccb093-9791-43d9-bf23-eeb3a390b75a",
   "metadata": {
    "id": "8fccb093-9791-43d9-bf23-eeb3a390b75a"
   },
   "source": [
    "## Convergence graph"
   ]
  },
  {
   "cell_type": "code",
   "execution_count": null,
   "id": "33b4b3b5-fe83-4c96-9404-66d64063082a",
   "metadata": {
    "id": "33b4b3b5-fe83-4c96-9404-66d64063082a"
   },
   "outputs": [],
   "source": [
    "plt.plot(objective_values)\n",
    "plt.xlabel(\"Iteration\")\n",
    "plt.ylabel(\"Objective Value\")\n",
    "plt.title(\"Optimization Progress\")"
   ]
  },
  {
   "cell_type": "markdown",
   "id": "12177a69-5698-403f-8daf-3159ba656b8b",
   "metadata": {
    "id": "12177a69-5698-403f-8daf-3159ba656b8b"
   },
   "source": [
    "# Solution"
   ]
  },
  {
   "cell_type": "code",
   "execution_count": null,
   "id": "72de469d-debc-45d4-a5c6-1946373673c0",
   "metadata": {
    "id": "72de469d-debc-45d4-a5c6-1946373673c0",
    "outputId": "ef57bffa-a5d3-4adf-eafc-4c549d2a928b",
    "colab": {
     "base_uri": "https://localhost:8080/",
     "height": 1000
    }
   },
   "outputs": [],
   "source": [
    "from typing import List\n",
    "\n",
    "import networkx as nx\n",
    "from classiq import *\n",
    "import math\n",
    "import matplotlib.pyplot as plt\n",
    "import numpy as np\n",
    "from scipy.optimize import minimize\n",
    "from classiq.execution import ExecutionSession, ExecutionPreferences\n",
    "\n",
    "NUM_LAYERS = 3\n",
    "\n",
    "num_slack = 3\n",
    "\n",
    "returns = np.array([3, 4, -1])\n",
    "# fmt: off\n",
    "covariances = np.array(\n",
    "    [\n",
    "        [ 0.9,  0.5, -0.7],\n",
    "        [ 0.5,  0.9, -0.2],\n",
    "        [-0.7, -0.2,  0.9],\n",
    "    ]\n",
    ")\n",
    "# fmt: on\n",
    "total_budget = 6\n",
    "specific_budgets = 3\n",
    "\n",
    "return_coeff = 10.0\n",
    "\n",
    "num_assets = 3\n",
    "\n",
    "num_qubits_per_asset = 2\n",
    "\n",
    "Penalty = 30.5\n",
    "\n",
    "# start with integer variables\n",
    "\n",
    "class PortfolioOptimizationVars(QStruct):\n",
    "    a: QArray[QNum[num_qubits_per_asset], num_assets]\n",
    "    slack: QNum[num_slack]\n",
    "\n",
    "def expected_return_cost(returns: np.ndarray, w_array: PortfolioOptimizationVars) -> float:\n",
    "    return sum(returns[i] * w_array.a[i] for i in range(len(returns)))\n",
    "\n",
    "def risk_cost(covariances: np.ndarray, w_array: PortfolioOptimizationVars) -> float:\n",
    "    risk_term =  sum(\n",
    "        w_array.a[i] * sum(w_array.a[j] * covariances[i][j] for j in range(covariances.shape[0])) for i in range(covariances.shape[0])\n",
    "    )\n",
    "    return risk_term\n",
    "\n",
    "\n",
    "def objective_portfolio_inequality(w_array: PortfolioOptimizationVars, returns: np.ndarray, covariances: np.ndarray, return_coeff: float) -> float:\n",
    "    return risk_cost(covariances, w_array) - \\\n",
    "        return_coeff * expected_return_cost(returns, w_array) + \\\n",
    "        Penalty * (sum(w_array.a[i] for i in range(len(returns))) + w_array.slack - total_budget)**2\n",
    "\n",
    "\n",
    "@qfunc\n",
    "def mixer_layer(beta: CReal, qba: QArray[QBit]):\n",
    "    apply_to_all(lambda q: RX(beta, q), qba)\n",
    "\n",
    "@qfunc\n",
    "def main(params: CArray[CReal, 2 * NUM_LAYERS], w_array: Output[PortfolioOptimizationVars]) -> None:\n",
    "    # allocate(len(returns), w_array)\n",
    "    allocate(num_qubits_per_asset * num_assets + num_slack, w_array)\n",
    "\n",
    "    hadamard_transform(w_array)\n",
    "\n",
    "    repeat(\n",
    "        count=params.len / 2,\n",
    "        iteration=lambda i: (\n",
    "            phase(\n",
    "                expr= objective_portfolio_inequality(w_array, returns, covariances, return_coeff),\n",
    "                theta = params[2 * i]\n",
    "            ),\n",
    "            mixer_layer(params[2 * i + 1], w_array)\n",
    "        )\n",
    "    )\n",
    "\n",
    "qmod = create_model(main)\n",
    "authenticate()\n",
    "qprog = synthesize(qmod)\n",
    "show(qprog)\n",
    "\n",
    "\n",
    "NUM_SHOTS = 1000\n",
    "\n",
    "es = ExecutionSession(\n",
    "    qprog, execution_preferences=ExecutionPreferences(num_shots=NUM_SHOTS)\n",
    ")\n",
    "\n",
    "def initial_qaoa_params(NUM_LAYERS) -> np.ndarray:\n",
    "    initial_gammas = math.pi * np.linspace(0, 1, NUM_LAYERS)\n",
    "    initial_betas = math.pi * np.linspace(1, 0, NUM_LAYERS)\n",
    "\n",
    "    initial_params = []\n",
    "\n",
    "    for i in range(NUM_LAYERS):\n",
    "        initial_params.append(initial_gammas[i])\n",
    "        initial_params.append(initial_betas[i])\n",
    "\n",
    "    return np.array(initial_params)\n",
    "\n",
    "initial_params = initial_qaoa_params(NUM_LAYERS)\n",
    "\n",
    "# Record the steps of the optimization\n",
    "intermediate_params = []\n",
    "objective_values = []\n",
    "\n",
    "# Define the callback function to store the intermediate steps\n",
    "def callback(xk):\n",
    "    intermediate_params.append(xk)\n",
    "\n",
    "cost_func = lambda state: objective_portfolio_inequality(\n",
    "    w_array = state[\"w_array\"],\n",
    "    returns = returns,\n",
    "    covariances = covariances,\n",
    "    return_coeff= return_coeff\n",
    ")\n",
    "\n",
    "def estimate_cost_func(params: np.ndarray) -> float:\n",
    "    objective_value = es.estimate_cost(\n",
    "        cost_func = cost_func,\n",
    "        parameters = {\"params\": params.tolist()}\n",
    "    )\n",
    "    objective_values.append(objective_value)\n",
    "    return objective_value\n",
    "\n",
    "\n",
    "optimization_res = minimize(\n",
    "    estimate_cost_func,\n",
    "    x0=initial_params,\n",
    "    method=\"COBYLA\",\n",
    "    callback=callback,\n",
    "    options={\"maxiter\": 20},\n",
    ")\n",
    "\n",
    "res = es.sample({\"params\": optimization_res.x.tolist()})\n",
    "\n",
    "print(f\"Optimized parameters: {optimization_res.x.tolist()}\")\n",
    "\n",
    "sorted_counts = sorted(res.parsed_counts, key=lambda pc: objective_portfolio_inequality(pc.state[\"w_array\"],returns = returns, covariances = covariances, return_coeff= return_coeff))\n",
    "\n",
    "for sampled in sorted_counts:\n",
    "    w = sampled.state[\"w_array\"]\n",
    "    print(f\"solution={w} probability={sampled.shots/NUM_SHOTS} \"\n",
    "          f\"cost={objective_portfolio_inequality(w_array=w,returns = returns, covariances = covariances, return_coeff= return_coeff)}\")\n",
    "\n",
    "plt.plot(objective_values)\n",
    "plt.xlabel(\"Iteration\")\n",
    "plt.ylabel(\"Objective Value\")\n",
    "plt.title(\"Optimization Progress\")\n"
   ]
  },
  {
   "cell_type": "code",
   "execution_count": null,
   "id": "cb26b417-2ba7-49b2-9370-0ce3b31ff8dd",
   "metadata": {
    "id": "cb26b417-2ba7-49b2-9370-0ce3b31ff8dd"
   },
   "outputs": [],
   "source": []
  }
 ],
 "metadata": {
  "kernelspec": {
   "display_name": "Python 3 (ipykernel)",
   "language": "python",
   "name": "python3"
  },
  "language_info": {
   "codemirror_mode": {
    "name": "ipython",
    "version": 3
   },
   "file_extension": ".py",
   "mimetype": "text/x-python",
   "name": "python",
   "nbconvert_exporter": "python",
   "pygments_lexer": "ipython3",
   "version": "3.11.4"
  },
  "vscode": {
   "interpreter": {
    "hash": "a07aacdcc8a415e7643a2bc993226848ff70704ebef014f87460de9126b773d0"
   }
  },
  "colab": {
   "provenance": []
  }
 },
 "nbformat": 4,
 "nbformat_minor": 5
}
